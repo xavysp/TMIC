{
 "cells": [
  {
   "cell_type": "code",
   "execution_count": 1,
   "id": "5bf0d0b1",
   "metadata": {},
   "outputs": [
    {
     "name": "stdout",
     "output_type": "stream",
     "text": [
      "WARNING:tensorflow:From C:\\Users\\xavysp\\anaconda3\\Lib\\site-packages\\keras\\src\\losses.py:2976: The name tf.losses.sparse_softmax_cross_entropy is deprecated. Please use tf.compat.v1.losses.sparse_softmax_cross_entropy instead.\n",
      "\n"
     ]
    }
   ],
   "source": [
    "import tensorflow as tf\n",
    "import keras\n",
    "\n",
    "from model import model_maker\n"
   ]
  },
  {
   "cell_type": "code",
   "execution_count": 2,
   "id": "ab73ad75",
   "metadata": {},
   "outputs": [],
   "source": [
    "fashion_mnist = keras.datasets.fashion_mnist\n",
    "(x_full,y_full),(x_test,y_test)=fashion_mnist.load_data()\n",
    "\n",
    "x_valid, x_train = x_full[:5000] / 255.0, x_full[5000:] / 255.0\n",
    "y_valid, y_train = y_full[:5000], y_full[5000:]\n",
    "x_test = x_test / 255.0\n",
    "\n",
    "class_names = [\"T-shirt/top\", \"Trouser\", \"Pullover\", \"Dress\", \"Coat\", \n",
    "               \"Sandal\", \"Shirt\", \"Sneaker\", \"Bag\", \"Ankle boot\"]\n",
    "\n",
    "x_train = x_train.reshape((55000, 28, 28, 1))\n",
    "x_valid = x_valid.reshape((5000, 28, 28, 1))\n",
    "x_test = x_test.reshape((10000, 28, 28, 1))\n"
   ]
  },
  {
   "cell_type": "code",
   "execution_count": 3,
   "id": "ad5a4305",
   "metadata": {},
   "outputs": [
    {
     "name": "stdout",
     "output_type": "stream",
     "text": [
      "WARNING:tensorflow:From C:\\Users\\xavysp\\anaconda3\\Lib\\site-packages\\keras\\src\\backend.py:1398: The name tf.executing_eagerly_outside_functions is deprecated. Please use tf.compat.v1.executing_eagerly_outside_functions instead.\n",
      "\n",
      "WARNING:tensorflow:From C:\\Users\\xavysp\\anaconda3\\Lib\\site-packages\\keras\\src\\layers\\pooling\\max_pooling2d.py:161: The name tf.nn.max_pool is deprecated. Please use tf.nn.max_pool2d instead.\n",
      "\n",
      "Model: \"model\"\n",
      "__________________________________________________________________________________________________\n",
      " Layer (type)                Output Shape                 Param #   Connected to                  \n",
      "==================================================================================================\n",
      " input_1 (InputLayer)        [(None, 28, 28, 1)]          0         []                            \n",
      "                                                                                                  \n",
      " conv2d (Conv2D)             (None, 14, 14, 16)           160       ['input_1[0][0]']             \n",
      "                                                                                                  \n",
      " activation (Activation)     (None, 14, 14, 16)           0         ['conv2d[0][0]']              \n",
      "                                                                                                  \n",
      " conv2d_1 (Conv2D)           (None, 14, 14, 16)           2320      ['activation[0][0]']          \n",
      "                                                                                                  \n",
      " activation_1 (Activation)   (None, 14, 14, 16)           0         ['conv2d_1[0][0]']            \n",
      "                                                                                                  \n",
      " max_pooling2d (MaxPooling2  (None, 7, 7, 16)             0         ['activation_1[0][0]']        \n",
      " D)                                                                                               \n",
      "                                                                                                  \n",
      " conv2d_3 (Conv2D)           (None, 7, 7, 32)             4640      ['max_pooling2d[0][0]']       \n",
      "                                                                                                  \n",
      " activation_2 (Activation)   (None, 7, 7, 32)             0         ['conv2d_3[0][0]']            \n",
      "                                                                                                  \n",
      " conv2d_2 (Conv2D)           (None, 7, 7, 32)             544       ['activation_1[0][0]']        \n",
      "                                                                                                  \n",
      " conv2d_4 (Conv2D)           (None, 7, 7, 32)             9248      ['activation_2[0][0]']        \n",
      "                                                                                                  \n",
      " add (Add)                   (None, 7, 7, 32)             0         ['conv2d_2[0][0]',            \n",
      "                                                                     'conv2d_4[0][0]']            \n",
      "                                                                                                  \n",
      " activation_3 (Activation)   (None, 7, 7, 32)             0         ['add[0][0]']                 \n",
      "                                                                                                  \n",
      " conv2d_6 (Conv2D)           (None, 7, 7, 48)             13872     ['activation_3[0][0]']        \n",
      "                                                                                                  \n",
      " activation_4 (Activation)   (None, 7, 7, 48)             0         ['conv2d_6[0][0]']            \n",
      "                                                                                                  \n",
      " conv2d_7 (Conv2D)           (None, 7, 7, 48)             20784     ['activation_4[0][0]']        \n",
      "                                                                                                  \n",
      " conv2d_5 (Conv2D)           (None, 7, 7, 48)             1584      ['conv2d_4[0][0]']            \n",
      "                                                                                                  \n",
      " average (Average)           (None, 7, 7, 48)             0         ['conv2d_7[0][0]',            \n",
      "                                                                     'conv2d_5[0][0]']            \n",
      "                                                                                                  \n",
      " activation_5 (Activation)   (None, 7, 7, 48)             0         ['average[0][0]']             \n",
      "                                                                                                  \n",
      " conv2d_8 (Conv2D)           (None, 7, 7, 48)             20784     ['activation_5[0][0]']        \n",
      "                                                                                                  \n",
      " activation_6 (Activation)   (None, 7, 7, 48)             0         ['conv2d_8[0][0]']            \n",
      "                                                                                                  \n",
      " conv2d_9 (Conv2D)           (None, 7, 7, 48)             20784     ['activation_6[0][0]']        \n",
      "                                                                                                  \n",
      " average_1 (Average)         (None, 7, 7, 48)             0         ['conv2d_9[0][0]',            \n",
      "                                                                     'conv2d_5[0][0]']            \n",
      "                                                                                                  \n",
      " activation_7 (Activation)   (None, 7, 7, 48)             0         ['average_1[0][0]']           \n",
      "                                                                                                  \n",
      " flatten (Flatten)           (None, 2352)                 0         ['activation_7[0][0]']        \n",
      "                                                                                                  \n",
      " dense (Dense)               (None, 64)                   150592    ['flatten[0][0]']             \n",
      "                                                                                                  \n",
      " dense_1 (Dense)             (None, 10)                   650       ['dense[0][0]']               \n",
      "                                                                                                  \n",
      "==================================================================================================\n",
      "Total params: 245962 (960.79 KB)\n",
      "Trainable params: 245962 (960.79 KB)\n",
      "Non-trainable params: 0 (0.00 Byte)\n",
      "__________________________________________________________________________________________________\n"
     ]
    }
   ],
   "source": [
    "# print(image_size+ (1,))\n",
    "image_size = (28, 28,1)\n",
    "batch_size = 32\n",
    "\n",
    "model = model_maker(image_size,10)\n",
    "# keras.utils.plot_model(model, show_shapes=True)\n",
    "model.summary()\n"
   ]
  },
  {
   "cell_type": "code",
   "execution_count": 4,
   "id": "be46e872",
   "metadata": {},
   "outputs": [],
   "source": [
    "# compile the model\n",
    "# model.compile(loss=keras.losses.SparseCategoricalCrossentropy(), \n",
    "#               optimizer=keras.optimizers.SGD(), \n",
    "#               metrics=[keras.metrics.SparseTopKCategoricalAccuracy(k=1)]) # first optimizer\n",
    "\n",
    "# model.compile(loss=keras.losses.SparseCategoricalCrossentropy(), \n",
    "#               optimizer=keras.optimizers.AdamW(), \n",
    "#               metrics=[keras.metrics.SparseCategoricalAccuracy()]) # second optimizer\n",
    "\n",
    "model.compile(loss=keras.losses.SparseCategoricalCrossentropy(), \n",
    "              optimizer=keras.optimizers.AdamW(), \n",
    "              metrics=[keras.metrics.SparseTopKCategoricalAccuracy(k=1)]) # second optimizer and accuracy\n"
   ]
  },
  {
   "cell_type": "code",
   "execution_count": 5,
   "id": "f8299665",
   "metadata": {},
   "outputs": [
    {
     "name": "stdout",
     "output_type": "stream",
     "text": [
      "Epoch 1/10\n",
      "WARNING:tensorflow:From C:\\Users\\xavysp\\anaconda3\\Lib\\site-packages\\keras\\src\\utils\\tf_utils.py:492: The name tf.ragged.RaggedTensorValue is deprecated. Please use tf.compat.v1.ragged.RaggedTensorValue instead.\n",
      "\n",
      "1719/1719 [==============================] - 26s 13ms/step - loss: 0.4932 - sparse_top_k_categorical_accuracy: 0.8176 - val_loss: 0.3216 - val_sparse_top_k_categorical_accuracy: 0.8814\n",
      "Epoch 2/10\n",
      "1719/1719 [==============================] - 23s 13ms/step - loss: 0.3140 - sparse_top_k_categorical_accuracy: 0.8847 - val_loss: 0.3005 - val_sparse_top_k_categorical_accuracy: 0.8858\n",
      "Epoch 3/10\n",
      "1719/1719 [==============================] - 22s 13ms/step - loss: 0.2748 - sparse_top_k_categorical_accuracy: 0.8975 - val_loss: 0.2495 - val_sparse_top_k_categorical_accuracy: 0.9074\n",
      "Epoch 4/10\n",
      "1719/1719 [==============================] - 23s 13ms/step - loss: 0.2472 - sparse_top_k_categorical_accuracy: 0.9082 - val_loss: 0.2463 - val_sparse_top_k_categorical_accuracy: 0.9030\n",
      "Epoch 5/10\n",
      "1719/1719 [==============================] - 24s 14ms/step - loss: 0.2246 - sparse_top_k_categorical_accuracy: 0.9158 - val_loss: 0.2590 - val_sparse_top_k_categorical_accuracy: 0.9050\n",
      "Epoch 6/10\n",
      "1719/1719 [==============================] - 24s 14ms/step - loss: 0.2090 - sparse_top_k_categorical_accuracy: 0.9210 - val_loss: 0.2508 - val_sparse_top_k_categorical_accuracy: 0.9048\n",
      "Epoch 7/10\n",
      "1719/1719 [==============================] - 24s 14ms/step - loss: 0.1898 - sparse_top_k_categorical_accuracy: 0.9279 - val_loss: 0.2428 - val_sparse_top_k_categorical_accuracy: 0.9082\n",
      "Epoch 8/10\n",
      "1719/1719 [==============================] - 26s 15ms/step - loss: 0.1762 - sparse_top_k_categorical_accuracy: 0.9328 - val_loss: 0.2441 - val_sparse_top_k_categorical_accuracy: 0.9180\n",
      "Epoch 9/10\n",
      "1719/1719 [==============================] - 25s 15ms/step - loss: 0.1610 - sparse_top_k_categorical_accuracy: 0.9386 - val_loss: 0.2490 - val_sparse_top_k_categorical_accuracy: 0.9088\n",
      "Epoch 10/10\n",
      "1719/1719 [==============================] - 26s 15ms/step - loss: 0.1487 - sparse_top_k_categorical_accuracy: 0.9439 - val_loss: 0.2435 - val_sparse_top_k_categorical_accuracy: 0.9152\n"
     ]
    }
   ],
   "source": [
    "# start training\n",
    "epochs = 10 # 5, 10, 15, 20\n",
    "history = model.fit(x_train, y_train, epochs=epochs,\n",
    "                    validation_data=(x_valid, y_valid))"
   ]
  },
  {
   "cell_type": "code",
   "execution_count": 6,
   "id": "b49008bb",
   "metadata": {
    "scrolled": true
   },
   "outputs": [
    {
     "name": "stdout",
     "output_type": "stream",
     "text": [
      "313/313 [==============================] - 2s 5ms/step - loss: 0.2757 - sparse_top_k_categorical_accuracy: 0.9077\n"
     ]
    },
    {
     "data": {
      "text/plain": [
       "[0.2756512761116028, 0.9077000021934509]"
      ]
     },
     "execution_count": 6,
     "metadata": {},
     "output_type": "execute_result"
    }
   ],
   "source": [
    "model.evaluate(x_test, y_test)"
   ]
  }
 ],
 "metadata": {
  "kernelspec": {
   "display_name": "Python 3 (ipykernel)",
   "language": "python",
   "name": "python3"
  },
  "language_info": {
   "codemirror_mode": {
    "name": "ipython",
    "version": 3
   },
   "file_extension": ".py",
   "mimetype": "text/x-python",
   "name": "python",
   "nbconvert_exporter": "python",
   "pygments_lexer": "ipython3",
   "version": "3.11.3"
  }
 },
 "nbformat": 4,
 "nbformat_minor": 5
}
