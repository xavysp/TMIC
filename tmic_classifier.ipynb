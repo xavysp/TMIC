{
 "cells": [
  {
   "cell_type": "code",
   "execution_count": 1,
   "id": "5bf0d0b1",
   "metadata": {},
   "outputs": [
    {
     "name": "stdout",
     "output_type": "stream",
     "text": [
      "WARNING:tensorflow:From C:\\Users\\xavysp\\anaconda3\\Lib\\site-packages\\keras\\src\\losses.py:2976: The name tf.losses.sparse_softmax_cross_entropy is deprecated. Please use tf.compat.v1.losses.sparse_softmax_cross_entropy instead.\n",
      "\n"
     ]
    }
   ],
   "source": [
    "import tensorflow as tf\n",
    "import keras\n",
    "\n",
    "from model import model_maker\n"
   ]
  },
  {
   "cell_type": "code",
   "execution_count": 2,
   "id": "ab73ad75",
   "metadata": {},
   "outputs": [],
   "source": [
    "fashion_mnist = keras.datasets.fashion_mnist\n",
    "(x_full,y_full),(x_test,y_test)=fashion_mnist.load_data()\n",
    "\n",
    "x_valid, x_train = x_full[:5000] / 255.0, x_full[5000:] / 255.0\n",
    "y_valid, y_train = y_full[:5000], y_full[5000:]\n",
    "x_test = x_test / 255.0\n",
    "\n",
    "class_names = [\"T-shirt/top\", \"Trouser\", \"Pullover\", \"Dress\", \"Coat\", \n",
    "               \"Sandal\", \"Shirt\", \"Sneaker\", \"Bag\", \"Ankle boot\"]\n",
    "\n",
    "x_train = x_train.reshape((55000, 28, 28, 1))\n",
    "x_valid = x_valid.reshape((5000, 28, 28, 1))\n",
    "x_test = x_test.reshape((10000, 28, 28, 1))\n"
   ]
  },
  {
   "cell_type": "code",
   "execution_count": 3,
   "id": "ad5a4305",
   "metadata": {},
   "outputs": [
    {
     "name": "stdout",
     "output_type": "stream",
     "text": [
      "WARNING:tensorflow:From C:\\Users\\xavysp\\anaconda3\\Lib\\site-packages\\keras\\src\\backend.py:1398: The name tf.executing_eagerly_outside_functions is deprecated. Please use tf.compat.v1.executing_eagerly_outside_functions instead.\n",
      "\n",
      "WARNING:tensorflow:From C:\\Users\\xavysp\\anaconda3\\Lib\\site-packages\\keras\\src\\layers\\pooling\\max_pooling2d.py:161: The name tf.nn.max_pool is deprecated. Please use tf.nn.max_pool2d instead.\n",
      "\n",
      "Model: \"model\"\n",
      "__________________________________________________________________________________________________\n",
      " Layer (type)                Output Shape                 Param #   Connected to                  \n",
      "==================================================================================================\n",
      " input_1 (InputLayer)        [(None, 28, 28, 1)]          0         []                            \n",
      "                                                                                                  \n",
      " conv2d (Conv2D)             (None, 14, 14, 16)           160       ['input_1[0][0]']             \n",
      "                                                                                                  \n",
      " activation (Activation)     (None, 14, 14, 16)           0         ['conv2d[0][0]']              \n",
      "                                                                                                  \n",
      " conv2d_1 (Conv2D)           (None, 14, 14, 16)           2320      ['activation[0][0]']          \n",
      "                                                                                                  \n",
      " activation_1 (Activation)   (None, 14, 14, 16)           0         ['conv2d_1[0][0]']            \n",
      "                                                                                                  \n",
      " max_pooling2d (MaxPooling2  (None, 7, 7, 16)             0         ['activation_1[0][0]']        \n",
      " D)                                                                                               \n",
      "                                                                                                  \n",
      " conv2d_3 (Conv2D)           (None, 7, 7, 32)             4640      ['max_pooling2d[0][0]']       \n",
      "                                                                                                  \n",
      " activation_2 (Activation)   (None, 7, 7, 32)             0         ['conv2d_3[0][0]']            \n",
      "                                                                                                  \n",
      " conv2d_2 (Conv2D)           (None, 7, 7, 32)             544       ['activation_1[0][0]']        \n",
      "                                                                                                  \n",
      " conv2d_4 (Conv2D)           (None, 7, 7, 32)             9248      ['activation_2[0][0]']        \n",
      "                                                                                                  \n",
      " add (Add)                   (None, 7, 7, 32)             0         ['conv2d_2[0][0]',            \n",
      "                                                                     'conv2d_4[0][0]']            \n",
      "                                                                                                  \n",
      " activation_3 (Activation)   (None, 7, 7, 32)             0         ['add[0][0]']                 \n",
      "                                                                                                  \n",
      " conv2d_6 (Conv2D)           (None, 7, 7, 48)             13872     ['activation_3[0][0]']        \n",
      "                                                                                                  \n",
      " activation_4 (Activation)   (None, 7, 7, 48)             0         ['conv2d_6[0][0]']            \n",
      "                                                                                                  \n",
      " conv2d_7 (Conv2D)           (None, 7, 7, 48)             20784     ['activation_4[0][0]']        \n",
      "                                                                                                  \n",
      " conv2d_5 (Conv2D)           (None, 7, 7, 48)             1584      ['conv2d_4[0][0]']            \n",
      "                                                                                                  \n",
      " average (Average)           (None, 7, 7, 48)             0         ['conv2d_7[0][0]',            \n",
      "                                                                     'conv2d_5[0][0]']            \n",
      "                                                                                                  \n",
      " activation_5 (Activation)   (None, 7, 7, 48)             0         ['average[0][0]']             \n",
      "                                                                                                  \n",
      " conv2d_8 (Conv2D)           (None, 7, 7, 48)             20784     ['activation_5[0][0]']        \n",
      "                                                                                                  \n",
      " activation_6 (Activation)   (None, 7, 7, 48)             0         ['conv2d_8[0][0]']            \n",
      "                                                                                                  \n",
      " conv2d_9 (Conv2D)           (None, 7, 7, 48)             20784     ['activation_6[0][0]']        \n",
      "                                                                                                  \n",
      " average_1 (Average)         (None, 7, 7, 48)             0         ['conv2d_9[0][0]',            \n",
      "                                                                     'conv2d_5[0][0]']            \n",
      "                                                                                                  \n",
      " flatten (Flatten)           (None, 2352)                 0         ['average_1[0][0]']           \n",
      "                                                                                                  \n",
      " dense (Dense)               (None, 64)                   150592    ['flatten[0][0]']             \n",
      "                                                                                                  \n",
      " dense_1 (Dense)             (None, 10)                   650       ['dense[0][0]']               \n",
      "                                                                                                  \n",
      "==================================================================================================\n",
      "Total params: 245962 (960.79 KB)\n",
      "Trainable params: 245962 (960.79 KB)\n",
      "Non-trainable params: 0 (0.00 Byte)\n",
      "__________________________________________________________________________________________________\n"
     ]
    }
   ],
   "source": [
    "# print(image_size+ (1,))\n",
    "image_size = (28, 28,1)\n",
    "batch_size = 32\n",
    "\n",
    "model = model_maker(image_size,10)\n",
    "# keras.utils.plot_model(model, show_shapes=True)\n",
    "model.summary()\n"
   ]
  },
  {
   "cell_type": "code",
   "execution_count": 5,
   "id": "be46e872",
   "metadata": {},
   "outputs": [],
   "source": [
    "# compile the model\n",
    "model.compile(loss=keras.losses.SparseCategoricalCrossentropy(), \n",
    "              optimizer=keras.optimizers.SGD(), \n",
    "              metrics=[keras.metrics.SparseCategoricalAccuracy()])"
   ]
  },
  {
   "cell_type": "code",
   "execution_count": 6,
   "id": "f8299665",
   "metadata": {},
   "outputs": [
    {
     "name": "stdout",
     "output_type": "stream",
     "text": [
      "Epoch 1/20\n",
      "WARNING:tensorflow:From C:\\Users\\xavysp\\anaconda3\\Lib\\site-packages\\keras\\src\\utils\\tf_utils.py:492: The name tf.ragged.RaggedTensorValue is deprecated. Please use tf.compat.v1.ragged.RaggedTensorValue instead.\n",
      "\n",
      "1719/1719 [==============================] - 19s 11ms/step - loss: 0.9246 - sparse_categorical_accuracy: 0.6671 - val_loss: 0.6125 - val_sparse_categorical_accuracy: 0.7728\n",
      "Epoch 2/20\n",
      "1719/1719 [==============================] - 20s 12ms/step - loss: 0.5124 - sparse_categorical_accuracy: 0.8123 - val_loss: 0.4520 - val_sparse_categorical_accuracy: 0.8376\n",
      "Epoch 3/20\n",
      "1719/1719 [==============================] - 21s 12ms/step - loss: 0.4395 - sparse_categorical_accuracy: 0.8405 - val_loss: 0.4048 - val_sparse_categorical_accuracy: 0.8546\n",
      "Epoch 4/20\n",
      "1719/1719 [==============================] - 22s 13ms/step - loss: 0.3970 - sparse_categorical_accuracy: 0.8561 - val_loss: 0.3713 - val_sparse_categorical_accuracy: 0.8660\n",
      "Epoch 5/20\n",
      "1719/1719 [==============================] - 22s 13ms/step - loss: 0.3696 - sparse_categorical_accuracy: 0.8670 - val_loss: 0.3566 - val_sparse_categorical_accuracy: 0.8700\n",
      "Epoch 6/20\n",
      "1719/1719 [==============================] - 22s 13ms/step - loss: 0.3481 - sparse_categorical_accuracy: 0.8744 - val_loss: 0.3351 - val_sparse_categorical_accuracy: 0.8782\n",
      "Epoch 7/20\n",
      "1719/1719 [==============================] - 22s 13ms/step - loss: 0.3294 - sparse_categorical_accuracy: 0.8823 - val_loss: 0.3360 - val_sparse_categorical_accuracy: 0.8782\n",
      "Epoch 8/20\n",
      "1719/1719 [==============================] - 23s 13ms/step - loss: 0.3175 - sparse_categorical_accuracy: 0.8860 - val_loss: 0.3095 - val_sparse_categorical_accuracy: 0.8904\n",
      "Epoch 9/20\n",
      "1719/1719 [==============================] - 25s 14ms/step - loss: 0.3057 - sparse_categorical_accuracy: 0.8909 - val_loss: 0.3115 - val_sparse_categorical_accuracy: 0.8860\n",
      "Epoch 10/20\n",
      "1719/1719 [==============================] - 23s 13ms/step - loss: 0.2952 - sparse_categorical_accuracy: 0.8937 - val_loss: 0.3372 - val_sparse_categorical_accuracy: 0.8764\n",
      "Epoch 11/20\n",
      "1719/1719 [==============================] - 23s 13ms/step - loss: 0.2853 - sparse_categorical_accuracy: 0.8959 - val_loss: 0.2916 - val_sparse_categorical_accuracy: 0.8986\n",
      "Epoch 12/20\n",
      "1719/1719 [==============================] - 23s 13ms/step - loss: 0.2772 - sparse_categorical_accuracy: 0.8996 - val_loss: 0.2830 - val_sparse_categorical_accuracy: 0.8970\n",
      "Epoch 13/20\n",
      "1719/1719 [==============================] - 23s 14ms/step - loss: 0.2691 - sparse_categorical_accuracy: 0.9015 - val_loss: 0.2939 - val_sparse_categorical_accuracy: 0.8976\n",
      "Epoch 14/20\n",
      "1719/1719 [==============================] - 24s 14ms/step - loss: 0.2624 - sparse_categorical_accuracy: 0.9040 - val_loss: 0.2747 - val_sparse_categorical_accuracy: 0.9026\n",
      "Epoch 15/20\n",
      "1719/1719 [==============================] - 24s 14ms/step - loss: 0.2553 - sparse_categorical_accuracy: 0.9059 - val_loss: 0.2877 - val_sparse_categorical_accuracy: 0.8970\n",
      "Epoch 16/20\n",
      "1719/1719 [==============================] - 24s 14ms/step - loss: 0.2492 - sparse_categorical_accuracy: 0.9082 - val_loss: 0.2697 - val_sparse_categorical_accuracy: 0.9038\n",
      "Epoch 17/20\n",
      "1719/1719 [==============================] - 25s 15ms/step - loss: 0.2413 - sparse_categorical_accuracy: 0.9120 - val_loss: 0.2739 - val_sparse_categorical_accuracy: 0.9022\n",
      "Epoch 18/20\n",
      "1719/1719 [==============================] - 25s 14ms/step - loss: 0.2367 - sparse_categorical_accuracy: 0.9131 - val_loss: 0.2804 - val_sparse_categorical_accuracy: 0.8988\n",
      "Epoch 19/20\n",
      "1719/1719 [==============================] - 25s 15ms/step - loss: 0.2300 - sparse_categorical_accuracy: 0.9169 - val_loss: 0.2875 - val_sparse_categorical_accuracy: 0.8986\n",
      "Epoch 20/20\n",
      "1719/1719 [==============================] - 31s 18ms/step - loss: 0.2246 - sparse_categorical_accuracy: 0.9173 - val_loss: 0.2702 - val_sparse_categorical_accuracy: 0.8990\n"
     ]
    }
   ],
   "source": [
    "# start training\n",
    "epochs = 20\n",
    "history = model.fit(x_train, y_train, epochs=epochs,\n",
    "                    validation_data=(x_valid, y_valid))"
   ]
  },
  {
   "cell_type": "code",
   "execution_count": 7,
   "id": "b49008bb",
   "metadata": {
    "scrolled": true
   },
   "outputs": [
    {
     "name": "stdout",
     "output_type": "stream",
     "text": [
      "313/313 [==============================] - 1s 4ms/step - loss: 0.2983 - sparse_categorical_accuracy: 0.8946\n"
     ]
    },
    {
     "data": {
      "text/plain": [
       "[0.29826611280441284, 0.894599974155426]"
      ]
     },
     "execution_count": 7,
     "metadata": {},
     "output_type": "execute_result"
    }
   ],
   "source": [
    "model.evaluate(x_test, y_test)"
   ]
  }
 ],
 "metadata": {
  "kernelspec": {
   "display_name": "Python 3 (ipykernel)",
   "language": "python",
   "name": "python3"
  },
  "language_info": {
   "codemirror_mode": {
    "name": "ipython",
    "version": 3
   },
   "file_extension": ".py",
   "mimetype": "text/x-python",
   "name": "python",
   "nbconvert_exporter": "python",
   "pygments_lexer": "ipython3",
   "version": "3.11.3"
  }
 },
 "nbformat": 4,
 "nbformat_minor": 5
}
