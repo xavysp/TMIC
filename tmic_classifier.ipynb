{
 "cells": [
  {
   "cell_type": "code",
   "execution_count": 1,
   "id": "5bf0d0b1",
   "metadata": {},
   "outputs": [
    {
     "name": "stdout",
     "output_type": "stream",
     "text": [
      "WARNING:tensorflow:From C:\\Users\\xavysp\\anaconda3\\Lib\\site-packages\\keras\\src\\losses.py:2976: The name tf.losses.sparse_softmax_cross_entropy is deprecated. Please use tf.compat.v1.losses.sparse_softmax_cross_entropy instead.\n",
      "\n"
     ]
    }
   ],
   "source": [
    "import tensorflow as tf\n",
    "import keras\n",
    "\n",
    "from model import model_maker\n"
   ]
  },
  {
   "cell_type": "code",
   "execution_count": 2,
   "id": "ab73ad75",
   "metadata": {},
   "outputs": [],
   "source": [
    "fashion_mnist = keras.datasets.fashion_mnist\n",
    "(x_full,y_full),(x_test,y_test)=fashion_mnist.load_data()\n",
    "\n",
    "x_valid, x_train = x_full[:5000] / 255.0, x_full[5000:] / 255.0\n",
    "y_valid, y_train = y_full[:5000], y_full[5000:]\n",
    "x_test = x_test / 255.0\n",
    "\n",
    "class_names = [\"T-shirt/top\", \"Trouser\", \"Pullover\", \"Dress\", \"Coat\", \n",
    "               \"Sandal\", \"Shirt\", \"Sneaker\", \"Bag\", \"Ankle boot\"]\n",
    "\n",
    "x_train = x_train.reshape((55000, 28, 28, 1))\n",
    "x_valid = x_valid.reshape((5000, 28, 28, 1))\n",
    "x_test = x_test.reshape((10000, 28, 28, 1))\n"
   ]
  },
  {
   "cell_type": "code",
   "execution_count": 5,
   "id": "ad5a4305",
   "metadata": {},
   "outputs": [
    {
     "name": "stdout",
     "output_type": "stream",
     "text": [
      "Model: \"model_2\"\n",
      "__________________________________________________________________________________________________\n",
      " Layer (type)                Output Shape                 Param #   Connected to                  \n",
      "==================================================================================================\n",
      " input_3 (InputLayer)        [(None, 28, 28, 1)]          0         []                            \n",
      "                                                                                                  \n",
      " random_flip_2 (RandomFlip)  (None, 28, 28, 1)            0         ['input_3[0][0]']             \n",
      "                                                                                                  \n",
      " random_rotation_2 (RandomR  (None, 28, 28, 1)            0         ['random_flip_2[0][0]']       \n",
      " otation)                                                                                         \n",
      "                                                                                                  \n",
      " rescaling_2 (Rescaling)     (None, 28, 28, 1)            0         ['random_rotation_2[0][0]']   \n",
      "                                                                                                  \n",
      " conv2d_22 (Conv2D)          (None, 14, 14, 16)           160       ['rescaling_2[0][0]']         \n",
      "                                                                                                  \n",
      " activation_16 (Activation)  (None, 14, 14, 16)           0         ['conv2d_22[0][0]']           \n",
      "                                                                                                  \n",
      " conv2d_23 (Conv2D)          (None, 14, 14, 16)           2320      ['activation_16[0][0]']       \n",
      "                                                                                                  \n",
      " activation_17 (Activation)  (None, 14, 14, 16)           0         ['conv2d_23[0][0]']           \n",
      "                                                                                                  \n",
      " max_pooling2d_2 (MaxPoolin  (None, 7, 7, 16)             0         ['activation_17[0][0]']       \n",
      " g2D)                                                                                             \n",
      "                                                                                                  \n",
      " conv2d_25 (Conv2D)          (None, 7, 7, 32)             4640      ['max_pooling2d_2[0][0]']     \n",
      "                                                                                                  \n",
      " activation_18 (Activation)  (None, 7, 7, 32)             0         ['conv2d_25[0][0]']           \n",
      "                                                                                                  \n",
      " conv2d_24 (Conv2D)          (None, 7, 7, 32)             544       ['activation_17[0][0]']       \n",
      "                                                                                                  \n",
      " conv2d_26 (Conv2D)          (None, 7, 7, 32)             9248      ['activation_18[0][0]']       \n",
      "                                                                                                  \n",
      " add_2 (Add)                 (None, 7, 7, 32)             0         ['conv2d_24[0][0]',           \n",
      "                                                                     'conv2d_26[0][0]']           \n",
      "                                                                                                  \n",
      " activation_19 (Activation)  (None, 7, 7, 32)             0         ['add_2[0][0]']               \n",
      "                                                                                                  \n",
      " conv2d_28 (Conv2D)          (None, 7, 7, 48)             13872     ['activation_19[0][0]']       \n",
      "                                                                                                  \n",
      " activation_20 (Activation)  (None, 7, 7, 48)             0         ['conv2d_28[0][0]']           \n",
      "                                                                                                  \n",
      " conv2d_29 (Conv2D)          (None, 7, 7, 48)             20784     ['activation_20[0][0]']       \n",
      "                                                                                                  \n",
      " conv2d_27 (Conv2D)          (None, 7, 7, 48)             1584      ['conv2d_26[0][0]']           \n",
      "                                                                                                  \n",
      " average_4 (Average)         (None, 7, 7, 48)             0         ['conv2d_29[0][0]',           \n",
      "                                                                     'conv2d_27[0][0]']           \n",
      "                                                                                                  \n",
      " activation_21 (Activation)  (None, 7, 7, 48)             0         ['average_4[0][0]']           \n",
      "                                                                                                  \n",
      " conv2d_30 (Conv2D)          (None, 7, 7, 48)             20784     ['activation_21[0][0]']       \n",
      "                                                                                                  \n",
      " activation_22 (Activation)  (None, 7, 7, 48)             0         ['conv2d_30[0][0]']           \n",
      "                                                                                                  \n",
      " conv2d_31 (Conv2D)          (None, 7, 7, 48)             20784     ['activation_22[0][0]']       \n",
      "                                                                                                  \n",
      " average_5 (Average)         (None, 7, 7, 48)             0         ['conv2d_31[0][0]',           \n",
      "                                                                     'conv2d_27[0][0]']           \n",
      "                                                                                                  \n",
      " conv2d_32 (Conv2D)          (None, 7, 7, 256)            110848    ['average_5[0][0]']           \n",
      "                                                                                                  \n",
      " activation_23 (Activation)  (None, 7, 7, 256)            0         ['conv2d_32[0][0]']           \n",
      "                                                                                                  \n",
      " global_average_pooling2d_2  (None, 256)                  0         ['activation_23[0][0]']       \n",
      "  (GlobalAveragePooling2D)                                                                        \n",
      "                                                                                                  \n",
      " dropout_2 (Dropout)         (None, 256)                  0         ['global_average_pooling2d_2[0\n",
      "                                                                    ][0]']                        \n",
      "                                                                                                  \n",
      " dense_2 (Dense)             (None, 10)                   2570      ['dropout_2[0][0]']           \n",
      "                                                                                                  \n",
      "==================================================================================================\n",
      "Total params: 208138 (813.04 KB)\n",
      "Trainable params: 208138 (813.04 KB)\n",
      "Non-trainable params: 0 (0.00 Byte)\n",
      "__________________________________________________________________________________________________\n"
     ]
    }
   ],
   "source": [
    "# print(image_size+ (1,))\n",
    "image_size = (28, 28,1)\n",
    "batch_size = 32\n",
    "\n",
    "model = model_maker(image_size,10)\n",
    "# keras.utils.plot_model(model, show_shapes=True)\n",
    "model.summary()\n"
   ]
  }
 ],
 "metadata": {
  "kernelspec": {
   "display_name": "Python 3 (ipykernel)",
   "language": "python",
   "name": "python3"
  },
  "language_info": {
   "codemirror_mode": {
    "name": "ipython",
    "version": 3
   },
   "file_extension": ".py",
   "mimetype": "text/x-python",
   "name": "python",
   "nbconvert_exporter": "python",
   "pygments_lexer": "ipython3",
   "version": "3.11.3"
  }
 },
 "nbformat": 4,
 "nbformat_minor": 5
}
