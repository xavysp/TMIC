{
 "cells": [
  {
   "cell_type": "code",
   "execution_count": null,
   "id": "19bb7934",
   "metadata": {},
   "outputs": [],
   "source": []
  },
  {
   "cell_type": "code",
   "execution_count": 1,
   "id": "5bf0d0b1",
   "metadata": {},
   "outputs": [
    {
     "name": "stdout",
     "output_type": "stream",
     "text": [
      "WARNING:tensorflow:From C:\\Users\\xavysp\\anaconda3\\Lib\\site-packages\\keras\\src\\losses.py:2976: The name tf.losses.sparse_softmax_cross_entropy is deprecated. Please use tf.compat.v1.losses.sparse_softmax_cross_entropy instead.\n",
      "\n"
     ]
    }
   ],
   "source": [
    "import tensorflow as tf\n",
    "import keras\n",
    "\n",
    "from model import model_maker\n"
   ]
  },
  {
   "cell_type": "code",
   "execution_count": null,
   "id": "be3cdfd8",
   "metadata": {},
   "outputs": [],
   "source": []
  },
  {
   "cell_type": "code",
   "execution_count": 2,
   "id": "ab73ad75",
   "metadata": {},
   "outputs": [],
   "source": [
    "def dataset_maker(dataset_name):\n",
    "    \n",
    "    if dataset_name ==\"mnist_fashion\":\n",
    "        \n",
    "        fashion_mnist = keras.datasets.fashion_mnist\n",
    "        (x_full,y_full),(x_test,y_test)=fashion_mnist.load_data()\n",
    "\n",
    "        x_valid, x_train = x_full[:5000] / 255.0, x_full[5000:] / 255.0\n",
    "        y_valid, y_train = y_full[:5000], y_full[5000:]\n",
    "        x_test = x_test / 255.0\n",
    "\n",
    "        class_names = [\"T-shirt/top\", \"Trouser\", \"Pullover\", \"Dress\", \"Coat\", \n",
    "                       \"Sandal\", \"Shirt\", \"Sneaker\", \"Bag\", \"Ankle boot\"]\n",
    "\n",
    "        x_train = x_train.reshape((55000, 28, 28, 1))\n",
    "        x_valid = x_valid.reshape((5000, 28, 28, 1))\n",
    "        x_test = x_test.reshape((10000, 28, 28, 1))\n",
    "        \n",
    "        return [x_train,y_train], [x_valid, y_valid], [x_test, y_test]\n",
    "    \n",
    "    elif dataset_name ==\"mnist\":\n",
    "        # train 60000 test 10000\n",
    "        (x_full, y_full), (x_test, y_test) = keras.datasets.mnist.load_data()\n",
    "        \n",
    "        x_valid, x_train = x_full[:5000] / 255.0, x_full[5000:] / 255.0\n",
    "        y_valid, y_train = y_full[:5000], y_full[5000:]\n",
    "        x_test = x_test / 255.0\n",
    "        \n",
    "        x_train = x_train.reshape((55000, 28, 28, 1))\n",
    "        x_valid = x_valid.reshape((5000, 28, 28, 1))\n",
    "        x_test = x_test.reshape((10000, 28, 28, 1))\n",
    "        \n",
    "        return [x_train,y_train], [x_valid, y_valid], [x_test, y_test]\n",
    "    \n",
    "    elif dataset_name ==\"cifar10\":\n",
    "        # train 50000, 10000\n",
    "        (x_full, y_full), (x_test, y_test) = keras.datasets.cifar10.load_data()\n",
    "        \n",
    "        x_valid, x_train = x_full[:5000] / 255.0, x_full[5000:] / 255.0\n",
    "        y_valid, y_train = y_full[:5000], y_full[5000:]\n",
    "        x_test = x_test / 255.0\n",
    "        \n",
    "        class_names = [\"airplane\", \"automobile\", \"bird\", \"cat\", \"deer\", \n",
    "                       \"dog\", \"frog\", \"horse\", \"ship\", \"truck\"]\n",
    "        \n",
    "        x_train = x_train.reshape((45000, 32, 32, 3))\n",
    "        x_valid = x_valid.reshape((5000, 32, 32, 3))\n",
    "        x_test = x_test.reshape((10000, 32, 32, 3))\n",
    "        \n",
    "        return [x_train,y_train], [x_valid, y_valid], [x_test, y_test]\n",
    "    \n",
    "    elif dataset_name ==\"cifar100\":\n",
    "        # train 50000, 10000\n",
    "        (x_full, y_full), (x_test, y_test) = keras.datasets.cifar100.load_data()\n",
    "        \n",
    "        x_valid, x_train = x_full[:5000] / 255.0, x_full[5000:] / 255.0\n",
    "        y_valid, y_train = y_full[:5000], y_full[5000:]\n",
    "        x_test = x_test / 255.0\n",
    "        \n",
    "        class_names = [\"airplane\", \"automobile\", \"bird\", \"cat\", \"deer\", \n",
    "                       \"dog\", \"frog\", \"horse\", \"ship\", \"truck\"]\n",
    "        \n",
    "        x_train = x_train.reshape((45000, 32, 32, 3))\n",
    "        x_valid = x_valid.reshape((5000, 32, 32, 3))\n",
    "        x_test = x_test.reshape((10000, 32, 32, 3))\n",
    "        \n",
    "        return [x_train,y_train], [x_valid, y_valid], [x_test, y_test]\n",
    "    \n",
    "    else:\n",
    "        \n",
    "        print(\"Unrecognized dataset\")\n",
    "        \n"
   ]
  },
  {
   "cell_type": "code",
   "execution_count": 8,
   "id": "ad5a4305",
   "metadata": {},
   "outputs": [
    {
     "name": "stdout",
     "output_type": "stream",
     "text": [
      "Dataset size\n",
      "Training: (45000, 32, 32, 3) (45000, 1)\n",
      "Validation: (5000, 32, 32, 3) (5000, 1)\n",
      "Testing: (10000, 32, 32, 3) (10000, 1)\n",
      "Model: \"model_2\"\n",
      "__________________________________________________________________________________________________\n",
      " Layer (type)                Output Shape                 Param #   Connected to                  \n",
      "==================================================================================================\n",
      " input_3 (InputLayer)        [(None, 32, 32, 3)]          0         []                            \n",
      "                                                                                                  \n",
      " conv2d_20 (Conv2D)          (None, 16, 16, 16)           448       ['input_3[0][0]']             \n",
      "                                                                                                  \n",
      " activation_16 (Activation)  (None, 16, 16, 16)           0         ['conv2d_20[0][0]']           \n",
      "                                                                                                  \n",
      " conv2d_21 (Conv2D)          (None, 16, 16, 16)           2320      ['activation_16[0][0]']       \n",
      "                                                                                                  \n",
      " activation_17 (Activation)  (None, 16, 16, 16)           0         ['conv2d_21[0][0]']           \n",
      "                                                                                                  \n",
      " max_pooling2d_2 (MaxPoolin  (None, 8, 8, 16)             0         ['activation_17[0][0]']       \n",
      " g2D)                                                                                             \n",
      "                                                                                                  \n",
      " conv2d_23 (Conv2D)          (None, 8, 8, 32)             4640      ['max_pooling2d_2[0][0]']     \n",
      "                                                                                                  \n",
      " activation_18 (Activation)  (None, 8, 8, 32)             0         ['conv2d_23[0][0]']           \n",
      "                                                                                                  \n",
      " conv2d_22 (Conv2D)          (None, 8, 8, 32)             544       ['activation_17[0][0]']       \n",
      "                                                                                                  \n",
      " conv2d_24 (Conv2D)          (None, 8, 8, 32)             9248      ['activation_18[0][0]']       \n",
      "                                                                                                  \n",
      " add_2 (Add)                 (None, 8, 8, 32)             0         ['conv2d_22[0][0]',           \n",
      "                                                                     'conv2d_24[0][0]']           \n",
      "                                                                                                  \n",
      " activation_19 (Activation)  (None, 8, 8, 32)             0         ['add_2[0][0]']               \n",
      "                                                                                                  \n",
      " conv2d_26 (Conv2D)          (None, 8, 8, 48)             13872     ['activation_19[0][0]']       \n",
      "                                                                                                  \n",
      " activation_20 (Activation)  (None, 8, 8, 48)             0         ['conv2d_26[0][0]']           \n",
      "                                                                                                  \n",
      " conv2d_27 (Conv2D)          (None, 8, 8, 48)             20784     ['activation_20[0][0]']       \n",
      "                                                                                                  \n",
      " conv2d_25 (Conv2D)          (None, 8, 8, 48)             1584      ['conv2d_24[0][0]']           \n",
      "                                                                                                  \n",
      " average_4 (Average)         (None, 8, 8, 48)             0         ['conv2d_27[0][0]',           \n",
      "                                                                     'conv2d_25[0][0]']           \n",
      "                                                                                                  \n",
      " activation_21 (Activation)  (None, 8, 8, 48)             0         ['average_4[0][0]']           \n",
      "                                                                                                  \n",
      " conv2d_28 (Conv2D)          (None, 8, 8, 48)             20784     ['activation_21[0][0]']       \n",
      "                                                                                                  \n",
      " activation_22 (Activation)  (None, 8, 8, 48)             0         ['conv2d_28[0][0]']           \n",
      "                                                                                                  \n",
      " conv2d_29 (Conv2D)          (None, 8, 8, 48)             20784     ['activation_22[0][0]']       \n",
      "                                                                                                  \n",
      " average_5 (Average)         (None, 8, 8, 48)             0         ['conv2d_29[0][0]',           \n",
      "                                                                     'conv2d_25[0][0]']           \n",
      "                                                                                                  \n",
      " activation_23 (Activation)  (None, 8, 8, 48)             0         ['average_5[0][0]']           \n",
      "                                                                                                  \n",
      " flatten_2 (Flatten)         (None, 3072)                 0         ['activation_23[0][0]']       \n",
      "                                                                                                  \n",
      " dense_4 (Dense)             (None, 64)                   196672    ['flatten_2[0][0]']           \n",
      "                                                                                                  \n",
      " dense_5 (Dense)             (None, 10)                   650       ['dense_4[0][0]']             \n",
      "                                                                                                  \n",
      "==================================================================================================\n",
      "Total params: 292330 (1.12 MB)\n",
      "Trainable params: 292330 (1.12 MB)\n",
      "Non-trainable params: 0 (0.00 Byte)\n",
      "__________________________________________________________________________________________________\n"
     ]
    }
   ],
   "source": [
    "# print(image_size+ (1,))\n",
    "dataset_name = [\"mnist\",\"mnist_fashion\",\"cifar10\", \"cifar100\"]\n",
    "data = dataset_name[2]\n",
    "if data==\"cifar10\" or \"cifar100\":\n",
    "    image_size =(32, 32,3) \n",
    "else:\n",
    "    image_size = (28, 28,1)\n",
    "    \n",
    "batch_size = 32\n",
    "N_classes = 10 if data!=\"cifar100\" else 100\n",
    "\n",
    "training, validation, testing = dataset_maker(data)\n",
    "x_train, y_train = training\n",
    "x_valid, y_valid = validation\n",
    "x_test, y_test = testing\n",
    "\n",
    "print(\"Dataset size\")\n",
    "print(\"Training:\", x_train.shape, y_train.shape)\n",
    "print(\"Validation:\", x_valid.shape, y_valid.shape)\n",
    "print(\"Testing:\", x_test.shape, y_test.shape)\n",
    "\n",
    "model = model_maker(image_size,N_classes)\n",
    "# keras.utils.plot_model(model, show_shapes=True)\n",
    "model.summary()\n"
   ]
  },
  {
   "cell_type": "code",
   "execution_count": 9,
   "id": "be46e872",
   "metadata": {},
   "outputs": [
    {
     "data": {
      "text/plain": [
       "(32, 32, 3)"
      ]
     },
     "execution_count": 9,
     "metadata": {},
     "output_type": "execute_result"
    }
   ],
   "source": [
    "# compile the model\n",
    "# model.compile(loss=keras.losses.SparseCategoricalCrossentropy(), \n",
    "#               optimizer=keras.optimizers.SGD(), \n",
    "#               metrics=[keras.metrics.SparseTopKCategoricalAccuracy(k=1)]) # first optimizer\n",
    "\n",
    "# model.compile(loss=keras.losses.SparseCategoricalCrossentropy(), \n",
    "#               optimizer=keras.optimizers.AdamW(), \n",
    "#               metrics=[keras.metrics.SparseCategoricalAccuracy()]) # second optimizer\n",
    "\n",
    "model.compile(loss=keras.losses.SparseCategoricalCrossentropy(), \n",
    "              optimizer=keras.optimizers.AdamW(), \n",
    "              metrics=[keras.metrics.SparseTopKCategoricalAccuracy(k=1)]) # second optimizer and accuracy\n",
    "image_size"
   ]
  },
  {
   "cell_type": "code",
   "execution_count": 10,
   "id": "f8299665",
   "metadata": {},
   "outputs": [
    {
     "name": "stdout",
     "output_type": "stream",
     "text": [
      "Epoch 1/5\n",
      "WARNING:tensorflow:From C:\\Users\\xavysp\\anaconda3\\Lib\\site-packages\\keras\\src\\utils\\tf_utils.py:492: The name tf.ragged.RaggedTensorValue is deprecated. Please use tf.compat.v1.ragged.RaggedTensorValue instead.\n",
      "\n",
      "1407/1407 [==============================] - 27s 16ms/step - loss: 1.5410 - sparse_top_k_categorical_accuracy: 0.4334 - val_loss: 1.3061 - val_sparse_top_k_categorical_accuracy: 0.5356\n",
      "Epoch 2/5\n",
      "1407/1407 [==============================] - 22s 16ms/step - loss: 1.1639 - sparse_top_k_categorical_accuracy: 0.5843 - val_loss: 1.0534 - val_sparse_top_k_categorical_accuracy: 0.6208\n",
      "Epoch 3/5\n",
      "1407/1407 [==============================] - 22s 16ms/step - loss: 0.9988 - sparse_top_k_categorical_accuracy: 0.6478 - val_loss: 1.0846 - val_sparse_top_k_categorical_accuracy: 0.6294\n",
      "Epoch 4/5\n",
      "1407/1407 [==============================] - 22s 16ms/step - loss: 0.8944 - sparse_top_k_categorical_accuracy: 0.6846 - val_loss: 0.9958 - val_sparse_top_k_categorical_accuracy: 0.6602\n",
      "Epoch 5/5\n",
      "1407/1407 [==============================] - 23s 16ms/step - loss: 0.8014 - sparse_top_k_categorical_accuracy: 0.7178 - val_loss: 0.8692 - val_sparse_top_k_categorical_accuracy: 0.6960\n"
     ]
    }
   ],
   "source": [
    "# start training\n",
    "epochs = 5 # 5, 10, 15, 20\n",
    "history = model.fit(x_train, y_train, epochs=epochs,\n",
    "                    validation_data=(x_valid, y_valid))"
   ]
  },
  {
   "cell_type": "code",
   "execution_count": 6,
   "id": "b49008bb",
   "metadata": {
    "scrolled": true
   },
   "outputs": [
    {
     "name": "stdout",
     "output_type": "stream",
     "text": [
      "313/313 [==============================] - 2s 5ms/step - loss: 0.2757 - sparse_top_k_categorical_accuracy: 0.9077\n"
     ]
    },
    {
     "data": {
      "text/plain": [
       "[0.2756512761116028, 0.9077000021934509]"
      ]
     },
     "execution_count": 6,
     "metadata": {},
     "output_type": "execute_result"
    }
   ],
   "source": [
    "model.evaluate(x_test, y_test)"
   ]
  }
 ],
 "metadata": {
  "kernelspec": {
   "display_name": "Python 3 (ipykernel)",
   "language": "python",
   "name": "python3"
  },
  "language_info": {
   "codemirror_mode": {
    "name": "ipython",
    "version": 3
   },
   "file_extension": ".py",
   "mimetype": "text/x-python",
   "name": "python",
   "nbconvert_exporter": "python",
   "pygments_lexer": "ipython3",
   "version": "3.11.3"
  }
 },
 "nbformat": 4,
 "nbformat_minor": 5
}
