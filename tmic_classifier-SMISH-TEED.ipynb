{
 "cells": [
  {
   "cell_type": "code",
   "execution_count": 1,
   "id": "5bf0d0b1",
   "metadata": {},
   "outputs": [
    {
     "name": "stdout",
     "output_type": "stream",
     "text": [
      "2.17.0\n",
      "3.5.0\n"
     ]
    }
   ],
   "source": [
    "# TEED with 2 blocks\n",
    "import tensorflow as tf\n",
    "import keras\n",
    "from keras.callbacks import EarlyStopping, Callback\n",
    "import numpy as np\n",
    "import matplotlib.pyplot as plt\n",
    "\n",
    "# from model_NO_AF import model_maker\n",
    "# from model_ALL_RELU import model_maker\n",
    "#from model_ALL_TANH import model_maker+\n",
    "# from model_ALL_MISH import model_maker\n",
    "# from model_ALL_SMISH import model_maker\n",
    "\n",
    "# from model_TEED_RELU import model_maker\n",
    "# from model_TEED_TANH import model_maker\n",
    "# from model_TEED_MISH import model_maker\n",
    "#from model_TEED_SMISH_xx import model_maker\n",
    "from TEED_SMISH_b2 import model_maker\n",
    "#from model_TEED_SMISH_xi import model_maker\n",
    "# from model import model_maker\n",
    "\n",
    "\n",
    "\n",
    "print(tf.__version__)\n",
    "print(keras.__version__)\n"
   ]
  },
  {
   "cell_type": "code",
   "execution_count": 2,
   "id": "351068e0-47e8-4c31-8f09-af150d48cb51",
   "metadata": {},
   "outputs": [],
   "source": [
    "# plotting helper function\n",
    "def plothist(hist):\n",
    "    plt.plot(hist.history[\"accuracy\"]) #'acc'])\n",
    "    plt.plot(hist.history['val_accuracy'])\n",
    "    plt.title('Model accuracy')\n",
    "    plt.ylabel('accuracy')\n",
    "    plt.xlabel('epoch')\n",
    "    plt.legend(['train', 'test'], loc='upper left')\n",
    "    plt.show()\n",
    "\n",
    "    # Custom callback to stop training when accuracy is above 95%\n",
    "class CustomCallback(Callback):\n",
    "    def on_epoch_end(self, epoch, logs=None):\n",
    "        if logs['val_accuracy'] > 0.95:\n",
    "            print(f'\\nReached 95% validation accuracy. Stopping training.')\n",
    "            self.model.stop_training = True"
   ]
  },
  {
   "cell_type": "code",
   "execution_count": 3,
   "id": "ab73ad75",
   "metadata": {},
   "outputs": [],
   "source": [
    "def dataset_maker(dataset_name):\n",
    "    \n",
    "    if dataset_name ==\"mnist_fashion\":\n",
    "        # train 60000 test 10000\n",
    "        fashion_mnist = keras.datasets.fashion_mnist\n",
    "        (x_train, y_train), (x_test, y_test)=fashion_mnist.load_data()\n",
    "\n",
    "        mean=np.mean(x_train)\n",
    "        std=np.std(x_train)\n",
    "        x_test=(x_test-mean)/std\n",
    "        x_train=(x_train-mean)/std\n",
    "\n",
    "        class_names = [\"T-shirt/top\", \"Trouser\", \"Pullover\", \"Dress\", \"Coat\", \n",
    "                       \"Sandal\", \"Shirt\", \"Sneaker\", \"Bag\", \"Ankle boot\"]\n",
    "\n",
    "        x_train = x_train.reshape((60000, 28, 28, 1))\n",
    "        ##x_valid = x_valid.reshape((5000, 28, 28, 1))\n",
    "        x_test = x_test.reshape((10000, 28, 28, 1))\n",
    "        \n",
    "        return [x_train,y_train], [x_test, y_test]\n",
    "    \n",
    "    elif dataset_name ==\"mnist\":\n",
    "        # train 60000 test 10000\n",
    "        (x_train, y_train), (x_test, y_test) = keras.datasets.mnist.load_data()\n",
    "        \n",
    "        mean=np.mean(x_train)\n",
    "        std=np.std(x_train)\n",
    "        x_test=(x_test-mean)/std\n",
    "        x_train=(x_train-mean)/std\n",
    "        \n",
    "        x_train = x_train.reshape((60000, 28, 28, 1))\n",
    "        x_test = x_test.reshape((10000, 28, 28, 1))\n",
    "        \n",
    "        return [x_train,y_train], [x_test, y_test]\n",
    "    \n",
    "    elif dataset_name ==\"cifar10\":\n",
    "        # train 50000, 10000\n",
    "        (x_full, y_full), (x_test, y_test) = keras.datasets.cifar10.load_data()\n",
    "        \n",
    "        x_valid, x_train = x_full[:5000] / 255.0, x_full[5000:] / 255.0\n",
    "        y_valid, y_train = y_full[:5000], y_full[5000:]\n",
    "        x_test = x_test / 255.0\n",
    "        \n",
    "        class_names = [\"airplane\", \"automobile\", \"bird\", \"cat\", \"deer\", \n",
    "                       \"dog\", \"frog\", \"horse\", \"ship\", \"truck\"]\n",
    "        \n",
    "        x_train = x_train.reshape((45000, 32, 32, 3))\n",
    "        x_valid = x_valid.reshape((5000, 32, 32, 3))\n",
    "        x_test = x_test.reshape((10000, 32, 32, 3))\n",
    "        \n",
    "        return [x_train,y_train], [x_valid, y_valid], [x_test, y_test]\n",
    "    \n",
    "    elif dataset_name ==\"cifar100\":\n",
    "        # train 50000, 10000\n",
    "        (x_full, y_full), (x_test, y_test) = keras.datasets.cifar100.load_data()\n",
    "        \n",
    "        x_valid, x_train = x_full[:5000] / 255.0, x_full[5000:] / 255.0\n",
    "        y_valid, y_train = y_full[:5000], y_full[5000:]\n",
    "        x_test = x_test / 255.0\n",
    "        \n",
    "        class_names = [\"airplane\", \"automobile\", \"bird\", \"cat\", \"deer\", \n",
    "                       \"dog\", \"frog\", \"horse\", \"ship\", \"truck\"]\n",
    "        \n",
    "        x_train = x_train.reshape((45000, 32, 32, 3))\n",
    "        x_valid = x_valid.reshape((5000, 32, 32, 3))\n",
    "        x_test = x_test.reshape((10000, 32, 32, 3))\n",
    "        \n",
    "        return [x_train,y_train], [x_valid, y_valid], [x_test, y_test]\n",
    "    \n",
    "    else:\n",
    "        \n",
    "        print(\"Unrecognized dataset\")\n",
    "        \n"
   ]
  },
  {
   "cell_type": "code",
   "execution_count": 4,
   "id": "ad5a4305",
   "metadata": {},
   "outputs": [
    {
     "name": "stdout",
     "output_type": "stream",
     "text": [
      "Input data size mnist_fashion (28, 28, 1)\n",
      "Training: (60000, 28, 28, 1) (60000,)\n",
      "Testing: (10000, 28, 28, 1) (10000,)\n",
      "Target size mnist_fashion (28, 28, 1)\n",
      "Training: (60000, 10)\n",
      "Testing: (10000, 10)\n",
      "WARNING:tensorflow:From C:\\Users\\OFICINASMS09\\miniconda3\\envs\\py310\\Lib\\site-packages\\keras\\src\\backend\\tensorflow\\core.py:204: The name tf.placeholder is deprecated. Please use tf.compat.v1.placeholder instead.\n",
      "\n"
     ]
    },
    {
     "data": {
      "text/html": [
       "<pre style=\"white-space:pre;overflow-x:auto;line-height:normal;font-family:Menlo,'DejaVu Sans Mono',consolas,'Courier New',monospace\"><span style=\"font-weight: bold\">Model: \"functional\"</span>\n",
       "</pre>\n"
      ],
      "text/plain": [
       "\u001b[1mModel: \"functional\"\u001b[0m\n"
      ]
     },
     "metadata": {},
     "output_type": "display_data"
    },
    {
     "data": {
      "text/html": [
       "<pre style=\"white-space:pre;overflow-x:auto;line-height:normal;font-family:Menlo,'DejaVu Sans Mono',consolas,'Courier New',monospace\">┏━━━━━━━━━━━━━━━━━━━━━━━━━━━━━━━━━━━━━━┳━━━━━━━━━━━━━━━━━━━━━━━━━━━━━┳━━━━━━━━━━━━━━━━━┓\n",
       "┃<span style=\"font-weight: bold\"> Layer (type)                         </span>┃<span style=\"font-weight: bold\"> Output Shape                </span>┃<span style=\"font-weight: bold\">         Param # </span>┃\n",
       "┡━━━━━━━━━━━━━━━━━━━━━━━━━━━━━━━━━━━━━━╇━━━━━━━━━━━━━━━━━━━━━━━━━━━━━╇━━━━━━━━━━━━━━━━━┩\n",
       "│ input_layer (<span style=\"color: #0087ff; text-decoration-color: #0087ff\">InputLayer</span>)             │ (<span style=\"color: #00d7ff; text-decoration-color: #00d7ff\">None</span>, <span style=\"color: #00af00; text-decoration-color: #00af00\">28</span>, <span style=\"color: #00af00; text-decoration-color: #00af00\">28</span>, <span style=\"color: #00af00; text-decoration-color: #00af00\">1</span>)           │               <span style=\"color: #00af00; text-decoration-color: #00af00\">0</span> │\n",
       "├──────────────────────────────────────┼─────────────────────────────┼─────────────────┤\n",
       "│ conv2d (<span style=\"color: #0087ff; text-decoration-color: #0087ff\">Conv2D</span>)                      │ (<span style=\"color: #00d7ff; text-decoration-color: #00d7ff\">None</span>, <span style=\"color: #00af00; text-decoration-color: #00af00\">14</span>, <span style=\"color: #00af00; text-decoration-color: #00af00\">14</span>, <span style=\"color: #00af00; text-decoration-color: #00af00\">16</span>)          │             <span style=\"color: #00af00; text-decoration-color: #00af00\">160</span> │\n",
       "├──────────────────────────────────────┼─────────────────────────────┼─────────────────┤\n",
       "│ k_smish (<span style=\"color: #0087ff; text-decoration-color: #0087ff\">k_smish</span>)                    │ (<span style=\"color: #00d7ff; text-decoration-color: #00d7ff\">None</span>, <span style=\"color: #00af00; text-decoration-color: #00af00\">14</span>, <span style=\"color: #00af00; text-decoration-color: #00af00\">14</span>, <span style=\"color: #00af00; text-decoration-color: #00af00\">16</span>)          │               <span style=\"color: #00af00; text-decoration-color: #00af00\">0</span> │\n",
       "├──────────────────────────────────────┼─────────────────────────────┼─────────────────┤\n",
       "│ conv2d_1 (<span style=\"color: #0087ff; text-decoration-color: #0087ff\">Conv2D</span>)                    │ (<span style=\"color: #00d7ff; text-decoration-color: #00d7ff\">None</span>, <span style=\"color: #00af00; text-decoration-color: #00af00\">14</span>, <span style=\"color: #00af00; text-decoration-color: #00af00\">14</span>, <span style=\"color: #00af00; text-decoration-color: #00af00\">16</span>)          │           <span style=\"color: #00af00; text-decoration-color: #00af00\">2,320</span> │\n",
       "├──────────────────────────────────────┼─────────────────────────────┼─────────────────┤\n",
       "│ k_smish_1 (<span style=\"color: #0087ff; text-decoration-color: #0087ff\">k_smish</span>)                  │ (<span style=\"color: #00d7ff; text-decoration-color: #00d7ff\">None</span>, <span style=\"color: #00af00; text-decoration-color: #00af00\">14</span>, <span style=\"color: #00af00; text-decoration-color: #00af00\">14</span>, <span style=\"color: #00af00; text-decoration-color: #00af00\">16</span>)          │               <span style=\"color: #00af00; text-decoration-color: #00af00\">0</span> │\n",
       "├──────────────────────────────────────┼─────────────────────────────┼─────────────────┤\n",
       "│ max_pooling2d (<span style=\"color: #0087ff; text-decoration-color: #0087ff\">MaxPooling2D</span>)         │ (<span style=\"color: #00d7ff; text-decoration-color: #00d7ff\">None</span>, <span style=\"color: #00af00; text-decoration-color: #00af00\">7</span>, <span style=\"color: #00af00; text-decoration-color: #00af00\">7</span>, <span style=\"color: #00af00; text-decoration-color: #00af00\">16</span>)            │               <span style=\"color: #00af00; text-decoration-color: #00af00\">0</span> │\n",
       "├──────────────────────────────────────┼─────────────────────────────┼─────────────────┤\n",
       "│ conv2d_2 (<span style=\"color: #0087ff; text-decoration-color: #0087ff\">Conv2D</span>)                    │ (<span style=\"color: #00d7ff; text-decoration-color: #00d7ff\">None</span>, <span style=\"color: #00af00; text-decoration-color: #00af00\">7</span>, <span style=\"color: #00af00; text-decoration-color: #00af00\">7</span>, <span style=\"color: #00af00; text-decoration-color: #00af00\">32</span>)            │           <span style=\"color: #00af00; text-decoration-color: #00af00\">4,640</span> │\n",
       "├──────────────────────────────────────┼─────────────────────────────┼─────────────────┤\n",
       "│ k_smish_2 (<span style=\"color: #0087ff; text-decoration-color: #0087ff\">k_smish</span>)                  │ (<span style=\"color: #00d7ff; text-decoration-color: #00d7ff\">None</span>, <span style=\"color: #00af00; text-decoration-color: #00af00\">7</span>, <span style=\"color: #00af00; text-decoration-color: #00af00\">7</span>, <span style=\"color: #00af00; text-decoration-color: #00af00\">32</span>)            │               <span style=\"color: #00af00; text-decoration-color: #00af00\">0</span> │\n",
       "├──────────────────────────────────────┼─────────────────────────────┼─────────────────┤\n",
       "│ conv2d_3 (<span style=\"color: #0087ff; text-decoration-color: #0087ff\">Conv2D</span>)                    │ (<span style=\"color: #00d7ff; text-decoration-color: #00d7ff\">None</span>, <span style=\"color: #00af00; text-decoration-color: #00af00\">7</span>, <span style=\"color: #00af00; text-decoration-color: #00af00\">7</span>, <span style=\"color: #00af00; text-decoration-color: #00af00\">32</span>)            │           <span style=\"color: #00af00; text-decoration-color: #00af00\">9,248</span> │\n",
       "├──────────────────────────────────────┼─────────────────────────────┼─────────────────┤\n",
       "│ k_smish_3 (<span style=\"color: #0087ff; text-decoration-color: #0087ff\">k_smish</span>)                  │ (<span style=\"color: #00d7ff; text-decoration-color: #00d7ff\">None</span>, <span style=\"color: #00af00; text-decoration-color: #00af00\">7</span>, <span style=\"color: #00af00; text-decoration-color: #00af00\">7</span>, <span style=\"color: #00af00; text-decoration-color: #00af00\">32</span>)            │               <span style=\"color: #00af00; text-decoration-color: #00af00\">0</span> │\n",
       "├──────────────────────────────────────┼─────────────────────────────┼─────────────────┤\n",
       "│ dropout (<span style=\"color: #0087ff; text-decoration-color: #0087ff\">Dropout</span>)                    │ (<span style=\"color: #00d7ff; text-decoration-color: #00d7ff\">None</span>, <span style=\"color: #00af00; text-decoration-color: #00af00\">7</span>, <span style=\"color: #00af00; text-decoration-color: #00af00\">7</span>, <span style=\"color: #00af00; text-decoration-color: #00af00\">32</span>)            │               <span style=\"color: #00af00; text-decoration-color: #00af00\">0</span> │\n",
       "├──────────────────────────────────────┼─────────────────────────────┼─────────────────┤\n",
       "│ flatten (<span style=\"color: #0087ff; text-decoration-color: #0087ff\">Flatten</span>)                    │ (<span style=\"color: #00d7ff; text-decoration-color: #00d7ff\">None</span>, <span style=\"color: #00af00; text-decoration-color: #00af00\">1568</span>)                │               <span style=\"color: #00af00; text-decoration-color: #00af00\">0</span> │\n",
       "├──────────────────────────────────────┼─────────────────────────────┼─────────────────┤\n",
       "│ dense (<span style=\"color: #0087ff; text-decoration-color: #0087ff\">Dense</span>)                        │ (<span style=\"color: #00d7ff; text-decoration-color: #00d7ff\">None</span>, <span style=\"color: #00af00; text-decoration-color: #00af00\">128</span>)                 │         <span style=\"color: #00af00; text-decoration-color: #00af00\">200,832</span> │\n",
       "├──────────────────────────────────────┼─────────────────────────────┼─────────────────┤\n",
       "│ batch_normalization                  │ (<span style=\"color: #00d7ff; text-decoration-color: #00d7ff\">None</span>, <span style=\"color: #00af00; text-decoration-color: #00af00\">128</span>)                 │             <span style=\"color: #00af00; text-decoration-color: #00af00\">512</span> │\n",
       "│ (<span style=\"color: #0087ff; text-decoration-color: #0087ff\">BatchNormalization</span>)                 │                             │                 │\n",
       "├──────────────────────────────────────┼─────────────────────────────┼─────────────────┤\n",
       "│ dropout_1 (<span style=\"color: #0087ff; text-decoration-color: #0087ff\">Dropout</span>)                  │ (<span style=\"color: #00d7ff; text-decoration-color: #00d7ff\">None</span>, <span style=\"color: #00af00; text-decoration-color: #00af00\">128</span>)                 │               <span style=\"color: #00af00; text-decoration-color: #00af00\">0</span> │\n",
       "├──────────────────────────────────────┼─────────────────────────────┼─────────────────┤\n",
       "│ dense_1 (<span style=\"color: #0087ff; text-decoration-color: #0087ff\">Dense</span>)                      │ (<span style=\"color: #00d7ff; text-decoration-color: #00d7ff\">None</span>, <span style=\"color: #00af00; text-decoration-color: #00af00\">10</span>)                  │           <span style=\"color: #00af00; text-decoration-color: #00af00\">1,290</span> │\n",
       "└──────────────────────────────────────┴─────────────────────────────┴─────────────────┘\n",
       "</pre>\n"
      ],
      "text/plain": [
       "┏━━━━━━━━━━━━━━━━━━━━━━━━━━━━━━━━━━━━━━┳━━━━━━━━━━━━━━━━━━━━━━━━━━━━━┳━━━━━━━━━━━━━━━━━┓\n",
       "┃\u001b[1m \u001b[0m\u001b[1mLayer (type)                        \u001b[0m\u001b[1m \u001b[0m┃\u001b[1m \u001b[0m\u001b[1mOutput Shape               \u001b[0m\u001b[1m \u001b[0m┃\u001b[1m \u001b[0m\u001b[1m        Param #\u001b[0m\u001b[1m \u001b[0m┃\n",
       "┡━━━━━━━━━━━━━━━━━━━━━━━━━━━━━━━━━━━━━━╇━━━━━━━━━━━━━━━━━━━━━━━━━━━━━╇━━━━━━━━━━━━━━━━━┩\n",
       "│ input_layer (\u001b[38;5;33mInputLayer\u001b[0m)             │ (\u001b[38;5;45mNone\u001b[0m, \u001b[38;5;34m28\u001b[0m, \u001b[38;5;34m28\u001b[0m, \u001b[38;5;34m1\u001b[0m)           │               \u001b[38;5;34m0\u001b[0m │\n",
       "├──────────────────────────────────────┼─────────────────────────────┼─────────────────┤\n",
       "│ conv2d (\u001b[38;5;33mConv2D\u001b[0m)                      │ (\u001b[38;5;45mNone\u001b[0m, \u001b[38;5;34m14\u001b[0m, \u001b[38;5;34m14\u001b[0m, \u001b[38;5;34m16\u001b[0m)          │             \u001b[38;5;34m160\u001b[0m │\n",
       "├──────────────────────────────────────┼─────────────────────────────┼─────────────────┤\n",
       "│ k_smish (\u001b[38;5;33mk_smish\u001b[0m)                    │ (\u001b[38;5;45mNone\u001b[0m, \u001b[38;5;34m14\u001b[0m, \u001b[38;5;34m14\u001b[0m, \u001b[38;5;34m16\u001b[0m)          │               \u001b[38;5;34m0\u001b[0m │\n",
       "├──────────────────────────────────────┼─────────────────────────────┼─────────────────┤\n",
       "│ conv2d_1 (\u001b[38;5;33mConv2D\u001b[0m)                    │ (\u001b[38;5;45mNone\u001b[0m, \u001b[38;5;34m14\u001b[0m, \u001b[38;5;34m14\u001b[0m, \u001b[38;5;34m16\u001b[0m)          │           \u001b[38;5;34m2,320\u001b[0m │\n",
       "├──────────────────────────────────────┼─────────────────────────────┼─────────────────┤\n",
       "│ k_smish_1 (\u001b[38;5;33mk_smish\u001b[0m)                  │ (\u001b[38;5;45mNone\u001b[0m, \u001b[38;5;34m14\u001b[0m, \u001b[38;5;34m14\u001b[0m, \u001b[38;5;34m16\u001b[0m)          │               \u001b[38;5;34m0\u001b[0m │\n",
       "├──────────────────────────────────────┼─────────────────────────────┼─────────────────┤\n",
       "│ max_pooling2d (\u001b[38;5;33mMaxPooling2D\u001b[0m)         │ (\u001b[38;5;45mNone\u001b[0m, \u001b[38;5;34m7\u001b[0m, \u001b[38;5;34m7\u001b[0m, \u001b[38;5;34m16\u001b[0m)            │               \u001b[38;5;34m0\u001b[0m │\n",
       "├──────────────────────────────────────┼─────────────────────────────┼─────────────────┤\n",
       "│ conv2d_2 (\u001b[38;5;33mConv2D\u001b[0m)                    │ (\u001b[38;5;45mNone\u001b[0m, \u001b[38;5;34m7\u001b[0m, \u001b[38;5;34m7\u001b[0m, \u001b[38;5;34m32\u001b[0m)            │           \u001b[38;5;34m4,640\u001b[0m │\n",
       "├──────────────────────────────────────┼─────────────────────────────┼─────────────────┤\n",
       "│ k_smish_2 (\u001b[38;5;33mk_smish\u001b[0m)                  │ (\u001b[38;5;45mNone\u001b[0m, \u001b[38;5;34m7\u001b[0m, \u001b[38;5;34m7\u001b[0m, \u001b[38;5;34m32\u001b[0m)            │               \u001b[38;5;34m0\u001b[0m │\n",
       "├──────────────────────────────────────┼─────────────────────────────┼─────────────────┤\n",
       "│ conv2d_3 (\u001b[38;5;33mConv2D\u001b[0m)                    │ (\u001b[38;5;45mNone\u001b[0m, \u001b[38;5;34m7\u001b[0m, \u001b[38;5;34m7\u001b[0m, \u001b[38;5;34m32\u001b[0m)            │           \u001b[38;5;34m9,248\u001b[0m │\n",
       "├──────────────────────────────────────┼─────────────────────────────┼─────────────────┤\n",
       "│ k_smish_3 (\u001b[38;5;33mk_smish\u001b[0m)                  │ (\u001b[38;5;45mNone\u001b[0m, \u001b[38;5;34m7\u001b[0m, \u001b[38;5;34m7\u001b[0m, \u001b[38;5;34m32\u001b[0m)            │               \u001b[38;5;34m0\u001b[0m │\n",
       "├──────────────────────────────────────┼─────────────────────────────┼─────────────────┤\n",
       "│ dropout (\u001b[38;5;33mDropout\u001b[0m)                    │ (\u001b[38;5;45mNone\u001b[0m, \u001b[38;5;34m7\u001b[0m, \u001b[38;5;34m7\u001b[0m, \u001b[38;5;34m32\u001b[0m)            │               \u001b[38;5;34m0\u001b[0m │\n",
       "├──────────────────────────────────────┼─────────────────────────────┼─────────────────┤\n",
       "│ flatten (\u001b[38;5;33mFlatten\u001b[0m)                    │ (\u001b[38;5;45mNone\u001b[0m, \u001b[38;5;34m1568\u001b[0m)                │               \u001b[38;5;34m0\u001b[0m │\n",
       "├──────────────────────────────────────┼─────────────────────────────┼─────────────────┤\n",
       "│ dense (\u001b[38;5;33mDense\u001b[0m)                        │ (\u001b[38;5;45mNone\u001b[0m, \u001b[38;5;34m128\u001b[0m)                 │         \u001b[38;5;34m200,832\u001b[0m │\n",
       "├──────────────────────────────────────┼─────────────────────────────┼─────────────────┤\n",
       "│ batch_normalization                  │ (\u001b[38;5;45mNone\u001b[0m, \u001b[38;5;34m128\u001b[0m)                 │             \u001b[38;5;34m512\u001b[0m │\n",
       "│ (\u001b[38;5;33mBatchNormalization\u001b[0m)                 │                             │                 │\n",
       "├──────────────────────────────────────┼─────────────────────────────┼─────────────────┤\n",
       "│ dropout_1 (\u001b[38;5;33mDropout\u001b[0m)                  │ (\u001b[38;5;45mNone\u001b[0m, \u001b[38;5;34m128\u001b[0m)                 │               \u001b[38;5;34m0\u001b[0m │\n",
       "├──────────────────────────────────────┼─────────────────────────────┼─────────────────┤\n",
       "│ dense_1 (\u001b[38;5;33mDense\u001b[0m)                      │ (\u001b[38;5;45mNone\u001b[0m, \u001b[38;5;34m10\u001b[0m)                  │           \u001b[38;5;34m1,290\u001b[0m │\n",
       "└──────────────────────────────────────┴─────────────────────────────┴─────────────────┘\n"
      ]
     },
     "metadata": {},
     "output_type": "display_data"
    },
    {
     "data": {
      "text/html": [
       "<pre style=\"white-space:pre;overflow-x:auto;line-height:normal;font-family:Menlo,'DejaVu Sans Mono',consolas,'Courier New',monospace\"><span style=\"font-weight: bold\"> Total params: </span><span style=\"color: #00af00; text-decoration-color: #00af00\">219,002</span> (855.48 KB)\n",
       "</pre>\n"
      ],
      "text/plain": [
       "\u001b[1m Total params: \u001b[0m\u001b[38;5;34m219,002\u001b[0m (855.48 KB)\n"
      ]
     },
     "metadata": {},
     "output_type": "display_data"
    },
    {
     "data": {
      "text/html": [
       "<pre style=\"white-space:pre;overflow-x:auto;line-height:normal;font-family:Menlo,'DejaVu Sans Mono',consolas,'Courier New',monospace\"><span style=\"font-weight: bold\"> Trainable params: </span><span style=\"color: #00af00; text-decoration-color: #00af00\">218,746</span> (854.48 KB)\n",
       "</pre>\n"
      ],
      "text/plain": [
       "\u001b[1m Trainable params: \u001b[0m\u001b[38;5;34m218,746\u001b[0m (854.48 KB)\n"
      ]
     },
     "metadata": {},
     "output_type": "display_data"
    },
    {
     "data": {
      "text/html": [
       "<pre style=\"white-space:pre;overflow-x:auto;line-height:normal;font-family:Menlo,'DejaVu Sans Mono',consolas,'Courier New',monospace\"><span style=\"font-weight: bold\"> Non-trainable params: </span><span style=\"color: #00af00; text-decoration-color: #00af00\">256</span> (1.00 KB)\n",
       "</pre>\n"
      ],
      "text/plain": [
       "\u001b[1m Non-trainable params: \u001b[0m\u001b[38;5;34m256\u001b[0m (1.00 KB)\n"
      ]
     },
     "metadata": {},
     "output_type": "display_data"
    }
   ],
   "source": [
    "# print(image_size+ (1,))\n",
    "dataset_name = [\"mnist\",\"mnist_fashion\",\"cifar10\", \"cifar100\"]\n",
    "data = dataset_name[1]\n",
    "if data==\"cifar10\" or data==\"cifar100\":\n",
    "    image_size =(32, 32,3) \n",
    "else:\n",
    "    image_size = (28, 28,1)\n",
    "    \n",
    "batch_size = 32\n",
    "N_classes = 10 if data!=\"cifar100\" else 100\n",
    "\n",
    "training, testing = dataset_maker(data)\n",
    "x_train, y_train = training\n",
    "x_test, y_test = testing\n",
    "\n",
    "print(\"Input data size\", data,image_size)\n",
    "print(\"Training:\", x_train.shape, y_train.shape)\n",
    "print(\"Testing:\", x_test.shape, y_test.shape)\n",
    "\n",
    "\n",
    "\n",
    "# convert class vectors to binary class matrices\n",
    "y_train = keras.utils.to_categorical(y_train, N_classes)\n",
    "y_test = keras.utils.to_categorical(y_test, N_classes)\n",
    "print(\"Target size\", data,image_size)\n",
    "print(\"Training:\", y_train.shape)\n",
    "print(\"Testing:\", y_test.shape)\n",
    "\n",
    "model = model_maker(image_size,N_classes)\n",
    "# keras.utils.plot_model(model, show_shapes=True)\n",
    "model.summary()\n"
   ]
  },
  {
   "cell_type": "code",
   "execution_count": 5,
   "id": "be46e872",
   "metadata": {},
   "outputs": [
    {
     "data": {
      "text/plain": [
       "(28, 28, 1)"
      ]
     },
     "execution_count": 5,
     "metadata": {},
     "output_type": "execute_result"
    }
   ],
   "source": [
    "# compile the model\n",
    "# model.compile(loss=keras.losses.SparseCategoricalCrossentropy(), \n",
    "#               optimizer=keras.optimizers.AdamW(), \n",
    "#               metrics=[keras.metrics.SparseCategoricalAccuracy()]) # second optimizer\n",
    "\n",
    "#model.compile(loss=keras.losses.SparseCategoricalCrossentropy(), \n",
    "#              optimizer=keras.optimizers.AdamW(learning_rate=0.0001), \n",
    "#              metrics=[keras.metrics.SparseTopKCategoricalAccuracy(k=1)]) # second optimizer and accuracy\n",
    "#model.compile(loss=keras.losses.CategoricalCrossentropy(), \n",
    "#              optimizer=keras.optimizers.AdamW(learning_rate=0.0001), \n",
    "#              metrics=[keras.metrics.Accuracy()]) # second optimizer and accuracy\n",
    "#model.compile(loss=\"categorical_crossentropy\", optimizer=\"adam\", metrics=[\"accuracy\"])\n",
    "#model.compile(loss=\"categorical_crossentropy\", optimizer=keras.optimizers.AdamW(learning_rate=0.001), metrics=[\"accuracy\"])\n",
    "model.compile(loss=\"categorical_crossentropy\", optimizer=keras.optimizers.Adam(learning_rate=0.001, weight_decay=2e-4),\n",
    "              metrics=[\"accuracy\"]) # lr 8e-5\n",
    "image_size"
   ]
  },
  {
   "cell_type": "code",
   "execution_count": 6,
   "id": "f8299665",
   "metadata": {},
   "outputs": [
    {
     "name": "stdout",
     "output_type": "stream",
     "text": [
      "Epoch 1/20\n",
      "\u001b[1m1594/1594\u001b[0m \u001b[32m━━━━━━━━━━━━━━━━━━━━\u001b[0m\u001b[37m\u001b[0m \u001b[1m15s\u001b[0m 8ms/step - accuracy: 0.7635 - loss: 0.6649 - val_accuracy: 0.8633 - val_loss: 0.3789\n",
      "Epoch 2/20\n",
      "\u001b[1m1594/1594\u001b[0m \u001b[32m━━━━━━━━━━━━━━━━━━━━\u001b[0m\u001b[37m\u001b[0m \u001b[1m12s\u001b[0m 8ms/step - accuracy: 0.8607 - loss: 0.3904 - val_accuracy: 0.8647 - val_loss: 0.3567\n",
      "Epoch 3/20\n",
      "\u001b[1m1594/1594\u001b[0m \u001b[32m━━━━━━━━━━━━━━━━━━━━\u001b[0m\u001b[37m\u001b[0m \u001b[1m12s\u001b[0m 8ms/step - accuracy: 0.8750 - loss: 0.3509 - val_accuracy: 0.8827 - val_loss: 0.3280\n",
      "Epoch 4/20\n",
      "\u001b[1m1594/1594\u001b[0m \u001b[32m━━━━━━━━━━━━━━━━━━━━\u001b[0m\u001b[37m\u001b[0m \u001b[1m13s\u001b[0m 8ms/step - accuracy: 0.8790 - loss: 0.3364 - val_accuracy: 0.8869 - val_loss: 0.3169\n",
      "Epoch 5/20\n",
      "\u001b[1m1594/1594\u001b[0m \u001b[32m━━━━━━━━━━━━━━━━━━━━\u001b[0m\u001b[37m\u001b[0m \u001b[1m13s\u001b[0m 8ms/step - accuracy: 0.8869 - loss: 0.3153 - val_accuracy: 0.8900 - val_loss: 0.2929\n",
      "Epoch 6/20\n",
      "\u001b[1m1594/1594\u001b[0m \u001b[32m━━━━━━━━━━━━━━━━━━━━\u001b[0m\u001b[37m\u001b[0m \u001b[1m13s\u001b[0m 8ms/step - accuracy: 0.8890 - loss: 0.3051 - val_accuracy: 0.8923 - val_loss: 0.2967\n",
      "Epoch 7/20\n",
      "\u001b[1m1594/1594\u001b[0m \u001b[32m━━━━━━━━━━━━━━━━━━━━\u001b[0m\u001b[37m\u001b[0m \u001b[1m13s\u001b[0m 8ms/step - accuracy: 0.8934 - loss: 0.2921 - val_accuracy: 0.8921 - val_loss: 0.2938\n",
      "Epoch 8/20\n",
      "\u001b[1m1594/1594\u001b[0m \u001b[32m━━━━━━━━━━━━━━━━━━━━\u001b[0m\u001b[37m\u001b[0m \u001b[1m12s\u001b[0m 8ms/step - accuracy: 0.8993 - loss: 0.2816 - val_accuracy: 0.8957 - val_loss: 0.2823\n",
      "Epoch 9/20\n",
      "\u001b[1m1594/1594\u001b[0m \u001b[32m━━━━━━━━━━━━━━━━━━━━\u001b[0m\u001b[37m\u001b[0m \u001b[1m12s\u001b[0m 8ms/step - accuracy: 0.9018 - loss: 0.2700 - val_accuracy: 0.8982 - val_loss: 0.2763\n",
      "Epoch 10/20\n",
      "\u001b[1m1594/1594\u001b[0m \u001b[32m━━━━━━━━━━━━━━━━━━━━\u001b[0m\u001b[37m\u001b[0m \u001b[1m13s\u001b[0m 8ms/step - accuracy: 0.9009 - loss: 0.2681 - val_accuracy: 0.9021 - val_loss: 0.2671\n",
      "Epoch 11/20\n",
      "\u001b[1m1594/1594\u001b[0m \u001b[32m━━━━━━━━━━━━━━━━━━━━\u001b[0m\u001b[37m\u001b[0m \u001b[1m13s\u001b[0m 8ms/step - accuracy: 0.9076 - loss: 0.2523 - val_accuracy: 0.9044 - val_loss: 0.2581\n",
      "Epoch 12/20\n",
      "\u001b[1m1594/1594\u001b[0m \u001b[32m━━━━━━━━━━━━━━━━━━━━\u001b[0m\u001b[37m\u001b[0m \u001b[1m14s\u001b[0m 9ms/step - accuracy: 0.9091 - loss: 0.2456 - val_accuracy: 0.9033 - val_loss: 0.2618\n",
      "Epoch 13/20\n",
      "\u001b[1m1594/1594\u001b[0m \u001b[32m━━━━━━━━━━━━━━━━━━━━\u001b[0m\u001b[37m\u001b[0m \u001b[1m15s\u001b[0m 9ms/step - accuracy: 0.9117 - loss: 0.2397 - val_accuracy: 0.9047 - val_loss: 0.2624\n",
      "Epoch 14/20\n",
      "\u001b[1m1594/1594\u001b[0m \u001b[32m━━━━━━━━━━━━━━━━━━━━\u001b[0m\u001b[37m\u001b[0m \u001b[1m15s\u001b[0m 9ms/step - accuracy: 0.9138 - loss: 0.2345 - val_accuracy: 0.9049 - val_loss: 0.2511\n",
      "Epoch 15/20\n",
      "\u001b[1m1594/1594\u001b[0m \u001b[32m━━━━━━━━━━━━━━━━━━━━\u001b[0m\u001b[37m\u001b[0m \u001b[1m15s\u001b[0m 9ms/step - accuracy: 0.9158 - loss: 0.2270 - val_accuracy: 0.9091 - val_loss: 0.2554\n",
      "Epoch 16/20\n",
      "\u001b[1m1594/1594\u001b[0m \u001b[32m━━━━━━━━━━━━━━━━━━━━\u001b[0m\u001b[37m\u001b[0m \u001b[1m15s\u001b[0m 9ms/step - accuracy: 0.9172 - loss: 0.2255 - val_accuracy: 0.9057 - val_loss: 0.2661\n",
      "Epoch 17/20\n",
      "\u001b[1m1594/1594\u001b[0m \u001b[32m━━━━━━━━━━━━━━━━━━━━\u001b[0m\u001b[37m\u001b[0m \u001b[1m15s\u001b[0m 9ms/step - accuracy: 0.9203 - loss: 0.2149 - val_accuracy: 0.9088 - val_loss: 0.2558\n",
      "Epoch 18/20\n",
      "\u001b[1m1594/1594\u001b[0m \u001b[32m━━━━━━━━━━━━━━━━━━━━\u001b[0m\u001b[37m\u001b[0m \u001b[1m18s\u001b[0m 11ms/step - accuracy: 0.9205 - loss: 0.2120 - val_accuracy: 0.9098 - val_loss: 0.2566\n",
      "Epoch 19/20\n",
      "\u001b[1m1594/1594\u001b[0m \u001b[32m━━━━━━━━━━━━━━━━━━━━\u001b[0m\u001b[37m\u001b[0m \u001b[1m15s\u001b[0m 10ms/step - accuracy: 0.9269 - loss: 0.2007 - val_accuracy: 0.9086 - val_loss: 0.2608\n",
      "Epoch 20/20\n",
      "\u001b[1m1594/1594\u001b[0m \u001b[32m━━━━━━━━━━━━━━━━━━━━\u001b[0m\u001b[37m\u001b[0m \u001b[1m15s\u001b[0m 10ms/step - accuracy: 0.9267 - loss: 0.1965 - val_accuracy: 0.9066 - val_loss: 0.2636\n"
     ]
    }
   ],
   "source": [
    "# start training\n",
    "epochs = 20  # 5, 10, 15, 20\n",
    "history = model.fit(x_train, y_train, epochs=epochs,\n",
    "                    validation_split=0.15,batch_size=32)"
   ]
  },
  {
   "cell_type": "code",
   "execution_count": 7,
   "id": "64b372e1-724e-4387-aed3-e6a342522ace",
   "metadata": {},
   "outputs": [],
   "source": [
    "# save checkpoint\n",
    "ckpt_name = \"checkpoint_\"+data+\".keras\"\n",
    "model.save(ckpt_name)\n",
    "\n",
    "#r_model = keras.models.load_model(ckpt_name)"
   ]
  },
  {
   "cell_type": "code",
   "execution_count": 8,
   "id": "b49008bb",
   "metadata": {
    "scrolled": true
   },
   "outputs": [
    {
     "name": "stdout",
     "output_type": "stream",
     "text": [
      "\u001b[1m313/313\u001b[0m \u001b[32m━━━━━━━━━━━━━━━━━━━━\u001b[0m\u001b[37m\u001b[0m \u001b[1m1s\u001b[0m 3ms/step - accuracy: 0.9053 - loss: 0.2808\n",
      "\u001b[1m313/313\u001b[0m \u001b[32m━━━━━━━━━━━━━━━━━━━━\u001b[0m\u001b[37m\u001b[0m \u001b[1m1s\u001b[0m 3ms/step\n"
     ]
    }
   ],
   "source": [
    "n_random = np.random.choice(len(x_test)) # choose an input data\n",
    "res_acc=model.evaluate(x_test, y_test)\n",
    "res_out=model.predict(x_test)"
   ]
  },
  {
   "cell_type": "code",
   "execution_count": 9,
   "id": "c4c22a77-2cbb-4724-b1a3-b8547d4b372b",
   "metadata": {},
   "outputs": [
    {
     "data": {
      "image/png": "[encoded data removed]",
      "text/plain": [
       "<Figure size 640x480 with 1 Axes>"
      ]
     },
     "metadata": {},
     "output_type": "display_data"
    }
   ],
   "source": [
    "plothist(history)"
   ]
  },
  {
   "cell_type": "code",
   "execution_count": 10,
   "id": "92000fa9-ea6e-4c60-b13a-2067ebd54a86",
   "metadata": {},
   "outputs": [],
   "source": [
    "def get_classified_mnist(y, y_hat, dataset=\"mnist_fashion\"):\n",
    "    print(y)\n",
    "    print(y_hat)\n",
    "    if dataset==\"mnist_fashion\":\n",
    "        class_name = [\"T-shirt/top\", \"Trouser\", \"Pullover\", \"Dress\", \"Coat\", \n",
    "                       \"Sandal\", \"Shirt\", \"Sneaker\", \"Bag\", \"Ankle boot\"]\n",
    "    else:\n",
    "        class_name = [\"T-shirt/top\", \"Trouser\", \"Pullover\", \"Dress\", \"Coat\", \n",
    "                       \"Sandal\", \"Shirt\", \"Sneaker\", \"Bag\", \"Ankle boot\"]\n",
    "    max_yh = y_hat.max()\n",
    "    y_index = 0\n",
    "    yh_index = 0\n",
    "    for i,res in enumerate(y):\n",
    "        if res>0:\n",
    "            y_index=i\n",
    "    y_res = \"Target=\"+class_name[y_index]\n",
    "    \n",
    "    for i,res in enumerate(y_hat):\n",
    "        if res==max_yh:\n",
    "            yh_index=i\n",
    "    #print(y_hat[yh_index])\n",
    "    yh_res = \"Result: \"+class_name[y_index]+\" prob: \"+str(int(y_hat[yh_index]*100))+\"%\"\n",
    "    \n",
    "    return y_res, yh_res"
   ]
  },
  {
   "cell_type": "code",
   "execution_count": 16,
   "id": "d3d4ff4f-e277-4511-9796-5679acc94956",
   "metadata": {},
   "outputs": [
    {
     "name": "stdout",
     "output_type": "stream",
     "text": [
      "[0. 0. 0. 0. 0. 1. 0. 0. 0. 0.]\n",
      "[9.5969426e-08 9.4461603e-07 8.6483965e-08 9.6006232e-08 4.5145444e-07\n",
      " 8.8839674e-01 4.8334965e-07 1.1090307e-01 1.3937058e-04 5.5867818e-04]\n",
      "Target=Sandal\n",
      "Result: Sandal prob: 88%\n"
     ]
    },
    {
     "data": {
      "image/png": "[encoded data removed]",
      "text/plain": [
       "<Figure size 700x700 with 1 Axes>"
      ]
     },
     "metadata": {},
     "output_type": "display_data"
    }
   ],
   "source": [
    "n_random= 9999\n",
    "y, yh = get_classified_mnist(y_test[n_random],res_out[n_random], data)\n",
    "print(y)\n",
    "print(yh)\n",
    "img_title = y+\" ::: \"+yh \n",
    "fig, ax = plt.subplots(1, 1, figsize=(7, 7))\n",
    "ax.imshow(x_test[n_random])\n",
    "ax.axis('off')\n",
    "ax.set_title(img_title)\n",
    "plt.show()"
   ]
  },
  {
   "cell_type": "code",
   "execution_count": 13,
   "id": "5ea4c2a0",
   "metadata": {},
   "outputs": [
    {
     "data": {
      "text/plain": [
       "<tf.Tensor: shape=(), dtype=float32, numpy=0.0051800003>"
      ]
     },
     "execution_count": 13,
     "metadata": {},
     "output_type": "execute_result"
    }
   ],
   "source": [
    "yh_test = res_out\n",
    "m = keras.metrics.Accuracy()\n",
    "m.update_state(y_test, yh_test)\n",
    "m.result()"
   ]
  }
 ],
 "metadata": {
  "kernelspec": {
   "display_name": "Python 3 (ipykernel)",
   "language": "python",
   "name": "python3"
  },
  "language_info": {
   "codemirror_mode": {
    "name": "ipython",
    "version": 3
   },
   "file_extension": ".py",
   "mimetype": "text/x-python",
   "name": "python",
   "nbconvert_exporter": "python",
   "pygments_lexer": "ipython3",
   "version": "3.12.4"
  }
 },
 "nbformat": 4,
 "nbformat_minor": 5
}
