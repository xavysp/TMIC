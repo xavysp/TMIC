{
 "cells": [
  {
   "cell_type": "code",
   "execution_count": 1,
   "id": "5bf0d0b1",
   "metadata": {},
   "outputs": [
    {
     "name": "stdout",
     "output_type": "stream",
     "text": [
      "2.17.0\n",
      "3.5.0\n"
     ]
    }
   ],
   "source": [
    "# TEED with 2 blocks\n",
    "import tensorflow as tf\n",
    "import keras\n",
    "from keras.callbacks import EarlyStopping, Callback\n",
    "import numpy as np\n",
    "import matplotlib.pyplot as plt\n",
    "\n",
    "# from model_NO_AF import model_maker\n",
    "# from model_ALL_RELU import model_maker\n",
    "#from model_ALL_TANH import model_maker+\n",
    "# from model_ALL_MISH import model_maker\n",
    "# from model_ALL_SMISH import model_maker\n",
    "\n",
    "# from model_TEED_RELU import model_maker\n",
    "# from model_TEED_TANH import model_maker\n",
    "# from model_TEED_MISH import model_maker\n",
    "#from model_TEED_SMISH_xx import model_maker\n",
    "from model_TEED_SMISH_x import model_maker\n",
    "#from model_TEED_SMISH_xi import model_maker\n",
    "# from model import model_maker\n",
    "\n",
    "\n",
    "\n",
    "print(tf.__version__)\n",
    "print(keras.__version__)\n"
   ]
  },
  {
   "cell_type": "code",
   "execution_count": 2,
   "id": "351068e0-47e8-4c31-8f09-af150d48cb51",
   "metadata": {},
   "outputs": [],
   "source": [
    "# plotting helper function\n",
    "def plothist(hist):\n",
    "    plt.plot(hist.history[\"accuracy\"]) #'acc'])\n",
    "    plt.plot(hist.history['val_accuracy'])\n",
    "    plt.title('Model accuracy')\n",
    "    plt.ylabel('accuracy')\n",
    "    plt.xlabel('epoch')\n",
    "    plt.legend(['train', 'test'], loc='upper left')\n",
    "    plt.show()\n",
    "\n",
    "    # Custom callback to stop training when accuracy is above 95%\n",
    "class CustomCallback(Callback):\n",
    "    def on_epoch_end(self, epoch, logs=None):\n",
    "        if logs['val_accuracy'] > 0.95:\n",
    "            print(f'\\nReached 95% validation accuracy. Stopping training.')\n",
    "            self.model.stop_training = True"
   ]
  },
  {
   "cell_type": "code",
   "execution_count": 3,
   "id": "ab73ad75",
   "metadata": {},
   "outputs": [],
   "source": [
    "def dataset_maker(dataset_name):\n",
    "    \n",
    "    if dataset_name ==\"mnist_fashion\":\n",
    "        # train 60000 test 10000\n",
    "        fashion_mnist = keras.datasets.fashion_mnist\n",
    "        (x_train, y_train), (x_test, y_test)=fashion_mnist.load_data()\n",
    "\n",
    "        mean=np.mean(x_train)\n",
    "        std=np.std(x_train)\n",
    "        x_test=(x_test-mean)/std\n",
    "        x_train=(x_train-mean)/std\n",
    "\n",
    "        class_names = [\"T-shirt/top\", \"Trouser\", \"Pullover\", \"Dress\", \"Coat\", \n",
    "                       \"Sandal\", \"Shirt\", \"Sneaker\", \"Bag\", \"Ankle boot\"]\n",
    "\n",
    "        x_train = x_train.reshape((60000, 28, 28, 1))\n",
    "        ##x_valid = x_valid.reshape((5000, 28, 28, 1))\n",
    "        x_test = x_test.reshape((10000, 28, 28, 1))\n",
    "        \n",
    "        return [x_train,y_train], [x_test, y_test]\n",
    "    \n",
    "    elif dataset_name ==\"mnist\":\n",
    "        # train 60000 test 10000\n",
    "        (x_train, y_train), (x_test, y_test) = keras.datasets.mnist.load_data()\n",
    "        \n",
    "        mean=np.mean(x_train)\n",
    "        std=np.std(x_train)\n",
    "        x_test=(x_test-mean)/std\n",
    "        x_train=(x_train-mean)/std\n",
    "        \n",
    "        x_train = x_train.reshape((60000, 28, 28, 1))\n",
    "        x_test = x_test.reshape((10000, 28, 28, 1))\n",
    "        \n",
    "        return [x_train,y_train], [x_test, y_test]\n",
    "    \n",
    "    elif dataset_name ==\"cifar10\":\n",
    "        # train 50000, 10000\n",
    "        (x_full, y_full), (x_test, y_test) = keras.datasets.cifar10.load_data()\n",
    "        \n",
    "        x_valid, x_train = x_full[:5000] / 255.0, x_full[5000:] / 255.0\n",
    "        y_valid, y_train = y_full[:5000], y_full[5000:]\n",
    "        x_test = x_test / 255.0\n",
    "        \n",
    "        class_names = [\"airplane\", \"automobile\", \"bird\", \"cat\", \"deer\", \n",
    "                       \"dog\", \"frog\", \"horse\", \"ship\", \"truck\"]\n",
    "        \n",
    "        x_train = x_train.reshape((45000, 32, 32, 3))\n",
    "        x_valid = x_valid.reshape((5000, 32, 32, 3))\n",
    "        x_test = x_test.reshape((10000, 32, 32, 3))\n",
    "        \n",
    "        return [x_train,y_train], [x_valid, y_valid], [x_test, y_test]\n",
    "    \n",
    "    elif dataset_name ==\"cifar100\":\n",
    "        # train 50000, 10000\n",
    "        (x_full, y_full), (x_test, y_test) = keras.datasets.cifar100.load_data()\n",
    "        \n",
    "        x_valid, x_train = x_full[:5000] / 255.0, x_full[5000:] / 255.0\n",
    "        y_valid, y_train = y_full[:5000], y_full[5000:]\n",
    "        x_test = x_test / 255.0\n",
    "        \n",
    "        class_names = [\"airplane\", \"automobile\", \"bird\", \"cat\", \"deer\", \n",
    "                       \"dog\", \"frog\", \"horse\", \"ship\", \"truck\"]\n",
    "        \n",
    "        x_train = x_train.reshape((45000, 32, 32, 3))\n",
    "        x_valid = x_valid.reshape((5000, 32, 32, 3))\n",
    "        x_test = x_test.reshape((10000, 32, 32, 3))\n",
    "        \n",
    "        return [x_train,y_train], [x_valid, y_valid], [x_test, y_test]\n",
    "    \n",
    "    else:\n",
    "        \n",
    "        print(\"Unrecognized dataset\")\n",
    "        \n"
   ]
  },
  {
   "cell_type": "code",
   "execution_count": 7,
   "id": "ad5a4305",
   "metadata": {},
   "outputs": [
    {
     "name": "stdout",
     "output_type": "stream",
     "text": [
      "Input data size mnist_fashion (28, 28, 1)\n",
      "Training: (60000, 28, 28, 1) (60000,)\n",
      "Testing: (10000, 28, 28, 1) (10000,)\n",
      "Target size mnist_fashion (28, 28, 1)\n",
      "Training: (60000, 10)\n",
      "Testing: (10000, 10)\n"
     ]
    },
    {
     "data": {
      "text/html": [
       "<pre style=\"white-space:pre;overflow-x:auto;line-height:normal;font-family:Menlo,'DejaVu Sans Mono',consolas,'Courier New',monospace\"><span style=\"font-weight: bold\">Model: \"functional_1\"</span>\n",
       "</pre>\n"
      ],
      "text/plain": [
       "\u001b[1mModel: \"functional_1\"\u001b[0m\n"
      ]
     },
     "metadata": {},
     "output_type": "display_data"
    },
    {
     "data": {
      "text/html": [
       "<pre style=\"white-space:pre;overflow-x:auto;line-height:normal;font-family:Menlo,'DejaVu Sans Mono',consolas,'Courier New',monospace\">┏━━━━━━━━━━━━━━━━━━━━━━━━━━━━━━━━━━━━━━┳━━━━━━━━━━━━━━━━━━━━━━━━━━━━━┳━━━━━━━━━━━━━━━━━┓\n",
       "┃<span style=\"font-weight: bold\"> Layer (type)                         </span>┃<span style=\"font-weight: bold\"> Output Shape                </span>┃<span style=\"font-weight: bold\">         Param # </span>┃\n",
       "┡━━━━━━━━━━━━━━━━━━━━━━━━━━━━━━━━━━━━━━╇━━━━━━━━━━━━━━━━━━━━━━━━━━━━━╇━━━━━━━━━━━━━━━━━┩\n",
       "│ input_layer_1 (<span style=\"color: #0087ff; text-decoration-color: #0087ff\">InputLayer</span>)           │ (<span style=\"color: #00d7ff; text-decoration-color: #00d7ff\">None</span>, <span style=\"color: #00af00; text-decoration-color: #00af00\">28</span>, <span style=\"color: #00af00; text-decoration-color: #00af00\">28</span>, <span style=\"color: #00af00; text-decoration-color: #00af00\">1</span>)           │               <span style=\"color: #00af00; text-decoration-color: #00af00\">0</span> │\n",
       "├──────────────────────────────────────┼─────────────────────────────┼─────────────────┤\n",
       "│ conv2d_4 (<span style=\"color: #0087ff; text-decoration-color: #0087ff\">Conv2D</span>)                    │ (<span style=\"color: #00d7ff; text-decoration-color: #00d7ff\">None</span>, <span style=\"color: #00af00; text-decoration-color: #00af00\">14</span>, <span style=\"color: #00af00; text-decoration-color: #00af00\">14</span>, <span style=\"color: #00af00; text-decoration-color: #00af00\">16</span>)          │             <span style=\"color: #00af00; text-decoration-color: #00af00\">160</span> │\n",
       "├──────────────────────────────────────┼─────────────────────────────┼─────────────────┤\n",
       "│ k_smish_4 (<span style=\"color: #0087ff; text-decoration-color: #0087ff\">k_smish</span>)                  │ (<span style=\"color: #00d7ff; text-decoration-color: #00d7ff\">None</span>, <span style=\"color: #00af00; text-decoration-color: #00af00\">14</span>, <span style=\"color: #00af00; text-decoration-color: #00af00\">14</span>, <span style=\"color: #00af00; text-decoration-color: #00af00\">16</span>)          │               <span style=\"color: #00af00; text-decoration-color: #00af00\">0</span> │\n",
       "├──────────────────────────────────────┼─────────────────────────────┼─────────────────┤\n",
       "│ conv2d_5 (<span style=\"color: #0087ff; text-decoration-color: #0087ff\">Conv2D</span>)                    │ (<span style=\"color: #00d7ff; text-decoration-color: #00d7ff\">None</span>, <span style=\"color: #00af00; text-decoration-color: #00af00\">14</span>, <span style=\"color: #00af00; text-decoration-color: #00af00\">14</span>, <span style=\"color: #00af00; text-decoration-color: #00af00\">16</span>)          │           <span style=\"color: #00af00; text-decoration-color: #00af00\">2,320</span> │\n",
       "├──────────────────────────────────────┼─────────────────────────────┼─────────────────┤\n",
       "│ k_smish_5 (<span style=\"color: #0087ff; text-decoration-color: #0087ff\">k_smish</span>)                  │ (<span style=\"color: #00d7ff; text-decoration-color: #00d7ff\">None</span>, <span style=\"color: #00af00; text-decoration-color: #00af00\">14</span>, <span style=\"color: #00af00; text-decoration-color: #00af00\">14</span>, <span style=\"color: #00af00; text-decoration-color: #00af00\">16</span>)          │               <span style=\"color: #00af00; text-decoration-color: #00af00\">0</span> │\n",
       "├──────────────────────────────────────┼─────────────────────────────┼─────────────────┤\n",
       "│ max_pooling2d_1 (<span style=\"color: #0087ff; text-decoration-color: #0087ff\">MaxPooling2D</span>)       │ (<span style=\"color: #00d7ff; text-decoration-color: #00d7ff\">None</span>, <span style=\"color: #00af00; text-decoration-color: #00af00\">7</span>, <span style=\"color: #00af00; text-decoration-color: #00af00\">7</span>, <span style=\"color: #00af00; text-decoration-color: #00af00\">16</span>)            │               <span style=\"color: #00af00; text-decoration-color: #00af00\">0</span> │\n",
       "├──────────────────────────────────────┼─────────────────────────────┼─────────────────┤\n",
       "│ conv2d_6 (<span style=\"color: #0087ff; text-decoration-color: #0087ff\">Conv2D</span>)                    │ (<span style=\"color: #00d7ff; text-decoration-color: #00d7ff\">None</span>, <span style=\"color: #00af00; text-decoration-color: #00af00\">7</span>, <span style=\"color: #00af00; text-decoration-color: #00af00\">7</span>, <span style=\"color: #00af00; text-decoration-color: #00af00\">32</span>)            │           <span style=\"color: #00af00; text-decoration-color: #00af00\">4,640</span> │\n",
       "├──────────────────────────────────────┼─────────────────────────────┼─────────────────┤\n",
       "│ k_smish_6 (<span style=\"color: #0087ff; text-decoration-color: #0087ff\">k_smish</span>)                  │ (<span style=\"color: #00d7ff; text-decoration-color: #00d7ff\">None</span>, <span style=\"color: #00af00; text-decoration-color: #00af00\">7</span>, <span style=\"color: #00af00; text-decoration-color: #00af00\">7</span>, <span style=\"color: #00af00; text-decoration-color: #00af00\">32</span>)            │               <span style=\"color: #00af00; text-decoration-color: #00af00\">0</span> │\n",
       "├──────────────────────────────────────┼─────────────────────────────┼─────────────────┤\n",
       "│ conv2d_7 (<span style=\"color: #0087ff; text-decoration-color: #0087ff\">Conv2D</span>)                    │ (<span style=\"color: #00d7ff; text-decoration-color: #00d7ff\">None</span>, <span style=\"color: #00af00; text-decoration-color: #00af00\">7</span>, <span style=\"color: #00af00; text-decoration-color: #00af00\">7</span>, <span style=\"color: #00af00; text-decoration-color: #00af00\">32</span>)            │           <span style=\"color: #00af00; text-decoration-color: #00af00\">9,248</span> │\n",
       "├──────────────────────────────────────┼─────────────────────────────┼─────────────────┤\n",
       "│ k_smish_7 (<span style=\"color: #0087ff; text-decoration-color: #0087ff\">k_smish</span>)                  │ (<span style=\"color: #00d7ff; text-decoration-color: #00d7ff\">None</span>, <span style=\"color: #00af00; text-decoration-color: #00af00\">7</span>, <span style=\"color: #00af00; text-decoration-color: #00af00\">7</span>, <span style=\"color: #00af00; text-decoration-color: #00af00\">32</span>)            │               <span style=\"color: #00af00; text-decoration-color: #00af00\">0</span> │\n",
       "├──────────────────────────────────────┼─────────────────────────────┼─────────────────┤\n",
       "│ dropout_2 (<span style=\"color: #0087ff; text-decoration-color: #0087ff\">Dropout</span>)                  │ (<span style=\"color: #00d7ff; text-decoration-color: #00d7ff\">None</span>, <span style=\"color: #00af00; text-decoration-color: #00af00\">7</span>, <span style=\"color: #00af00; text-decoration-color: #00af00\">7</span>, <span style=\"color: #00af00; text-decoration-color: #00af00\">32</span>)            │               <span style=\"color: #00af00; text-decoration-color: #00af00\">0</span> │\n",
       "├──────────────────────────────────────┼─────────────────────────────┼─────────────────┤\n",
       "│ flatten_1 (<span style=\"color: #0087ff; text-decoration-color: #0087ff\">Flatten</span>)                  │ (<span style=\"color: #00d7ff; text-decoration-color: #00d7ff\">None</span>, <span style=\"color: #00af00; text-decoration-color: #00af00\">1568</span>)                │               <span style=\"color: #00af00; text-decoration-color: #00af00\">0</span> │\n",
       "├──────────────────────────────────────┼─────────────────────────────┼─────────────────┤\n",
       "│ dense_2 (<span style=\"color: #0087ff; text-decoration-color: #0087ff\">Dense</span>)                      │ (<span style=\"color: #00d7ff; text-decoration-color: #00d7ff\">None</span>, <span style=\"color: #00af00; text-decoration-color: #00af00\">128</span>)                 │         <span style=\"color: #00af00; text-decoration-color: #00af00\">200,832</span> │\n",
       "├──────────────────────────────────────┼─────────────────────────────┼─────────────────┤\n",
       "│ batch_normalization_1                │ (<span style=\"color: #00d7ff; text-decoration-color: #00d7ff\">None</span>, <span style=\"color: #00af00; text-decoration-color: #00af00\">128</span>)                 │             <span style=\"color: #00af00; text-decoration-color: #00af00\">512</span> │\n",
       "│ (<span style=\"color: #0087ff; text-decoration-color: #0087ff\">BatchNormalization</span>)                 │                             │                 │\n",
       "├──────────────────────────────────────┼─────────────────────────────┼─────────────────┤\n",
       "│ dropout_3 (<span style=\"color: #0087ff; text-decoration-color: #0087ff\">Dropout</span>)                  │ (<span style=\"color: #00d7ff; text-decoration-color: #00d7ff\">None</span>, <span style=\"color: #00af00; text-decoration-color: #00af00\">128</span>)                 │               <span style=\"color: #00af00; text-decoration-color: #00af00\">0</span> │\n",
       "├──────────────────────────────────────┼─────────────────────────────┼─────────────────┤\n",
       "│ dense_3 (<span style=\"color: #0087ff; text-decoration-color: #0087ff\">Dense</span>)                      │ (<span style=\"color: #00d7ff; text-decoration-color: #00d7ff\">None</span>, <span style=\"color: #00af00; text-decoration-color: #00af00\">10</span>)                  │           <span style=\"color: #00af00; text-decoration-color: #00af00\">1,290</span> │\n",
       "└──────────────────────────────────────┴─────────────────────────────┴─────────────────┘\n",
       "</pre>\n"
      ],
      "text/plain": [
       "┏━━━━━━━━━━━━━━━━━━━━━━━━━━━━━━━━━━━━━━┳━━━━━━━━━━━━━━━━━━━━━━━━━━━━━┳━━━━━━━━━━━━━━━━━┓\n",
       "┃\u001b[1m \u001b[0m\u001b[1mLayer (type)                        \u001b[0m\u001b[1m \u001b[0m┃\u001b[1m \u001b[0m\u001b[1mOutput Shape               \u001b[0m\u001b[1m \u001b[0m┃\u001b[1m \u001b[0m\u001b[1m        Param #\u001b[0m\u001b[1m \u001b[0m┃\n",
       "┡━━━━━━━━━━━━━━━━━━━━━━━━━━━━━━━━━━━━━━╇━━━━━━━━━━━━━━━━━━━━━━━━━━━━━╇━━━━━━━━━━━━━━━━━┩\n",
       "│ input_layer_1 (\u001b[38;5;33mInputLayer\u001b[0m)           │ (\u001b[38;5;45mNone\u001b[0m, \u001b[38;5;34m28\u001b[0m, \u001b[38;5;34m28\u001b[0m, \u001b[38;5;34m1\u001b[0m)           │               \u001b[38;5;34m0\u001b[0m │\n",
       "├──────────────────────────────────────┼─────────────────────────────┼─────────────────┤\n",
       "│ conv2d_4 (\u001b[38;5;33mConv2D\u001b[0m)                    │ (\u001b[38;5;45mNone\u001b[0m, \u001b[38;5;34m14\u001b[0m, \u001b[38;5;34m14\u001b[0m, \u001b[38;5;34m16\u001b[0m)          │             \u001b[38;5;34m160\u001b[0m │\n",
       "├──────────────────────────────────────┼─────────────────────────────┼─────────────────┤\n",
       "│ k_smish_4 (\u001b[38;5;33mk_smish\u001b[0m)                  │ (\u001b[38;5;45mNone\u001b[0m, \u001b[38;5;34m14\u001b[0m, \u001b[38;5;34m14\u001b[0m, \u001b[38;5;34m16\u001b[0m)          │               \u001b[38;5;34m0\u001b[0m │\n",
       "├──────────────────────────────────────┼─────────────────────────────┼─────────────────┤\n",
       "│ conv2d_5 (\u001b[38;5;33mConv2D\u001b[0m)                    │ (\u001b[38;5;45mNone\u001b[0m, \u001b[38;5;34m14\u001b[0m, \u001b[38;5;34m14\u001b[0m, \u001b[38;5;34m16\u001b[0m)          │           \u001b[38;5;34m2,320\u001b[0m │\n",
       "├──────────────────────────────────────┼─────────────────────────────┼─────────────────┤\n",
       "│ k_smish_5 (\u001b[38;5;33mk_smish\u001b[0m)                  │ (\u001b[38;5;45mNone\u001b[0m, \u001b[38;5;34m14\u001b[0m, \u001b[38;5;34m14\u001b[0m, \u001b[38;5;34m16\u001b[0m)          │               \u001b[38;5;34m0\u001b[0m │\n",
       "├──────────────────────────────────────┼─────────────────────────────┼─────────────────┤\n",
       "│ max_pooling2d_1 (\u001b[38;5;33mMaxPooling2D\u001b[0m)       │ (\u001b[38;5;45mNone\u001b[0m, \u001b[38;5;34m7\u001b[0m, \u001b[38;5;34m7\u001b[0m, \u001b[38;5;34m16\u001b[0m)            │               \u001b[38;5;34m0\u001b[0m │\n",
       "├──────────────────────────────────────┼─────────────────────────────┼─────────────────┤\n",
       "│ conv2d_6 (\u001b[38;5;33mConv2D\u001b[0m)                    │ (\u001b[38;5;45mNone\u001b[0m, \u001b[38;5;34m7\u001b[0m, \u001b[38;5;34m7\u001b[0m, \u001b[38;5;34m32\u001b[0m)            │           \u001b[38;5;34m4,640\u001b[0m │\n",
       "├──────────────────────────────────────┼─────────────────────────────┼─────────────────┤\n",
       "│ k_smish_6 (\u001b[38;5;33mk_smish\u001b[0m)                  │ (\u001b[38;5;45mNone\u001b[0m, \u001b[38;5;34m7\u001b[0m, \u001b[38;5;34m7\u001b[0m, \u001b[38;5;34m32\u001b[0m)            │               \u001b[38;5;34m0\u001b[0m │\n",
       "├──────────────────────────────────────┼─────────────────────────────┼─────────────────┤\n",
       "│ conv2d_7 (\u001b[38;5;33mConv2D\u001b[0m)                    │ (\u001b[38;5;45mNone\u001b[0m, \u001b[38;5;34m7\u001b[0m, \u001b[38;5;34m7\u001b[0m, \u001b[38;5;34m32\u001b[0m)            │           \u001b[38;5;34m9,248\u001b[0m │\n",
       "├──────────────────────────────────────┼─────────────────────────────┼─────────────────┤\n",
       "│ k_smish_7 (\u001b[38;5;33mk_smish\u001b[0m)                  │ (\u001b[38;5;45mNone\u001b[0m, \u001b[38;5;34m7\u001b[0m, \u001b[38;5;34m7\u001b[0m, \u001b[38;5;34m32\u001b[0m)            │               \u001b[38;5;34m0\u001b[0m │\n",
       "├──────────────────────────────────────┼─────────────────────────────┼─────────────────┤\n",
       "│ dropout_2 (\u001b[38;5;33mDropout\u001b[0m)                  │ (\u001b[38;5;45mNone\u001b[0m, \u001b[38;5;34m7\u001b[0m, \u001b[38;5;34m7\u001b[0m, \u001b[38;5;34m32\u001b[0m)            │               \u001b[38;5;34m0\u001b[0m │\n",
       "├──────────────────────────────────────┼─────────────────────────────┼─────────────────┤\n",
       "│ flatten_1 (\u001b[38;5;33mFlatten\u001b[0m)                  │ (\u001b[38;5;45mNone\u001b[0m, \u001b[38;5;34m1568\u001b[0m)                │               \u001b[38;5;34m0\u001b[0m │\n",
       "├──────────────────────────────────────┼─────────────────────────────┼─────────────────┤\n",
       "│ dense_2 (\u001b[38;5;33mDense\u001b[0m)                      │ (\u001b[38;5;45mNone\u001b[0m, \u001b[38;5;34m128\u001b[0m)                 │         \u001b[38;5;34m200,832\u001b[0m │\n",
       "├──────────────────────────────────────┼─────────────────────────────┼─────────────────┤\n",
       "│ batch_normalization_1                │ (\u001b[38;5;45mNone\u001b[0m, \u001b[38;5;34m128\u001b[0m)                 │             \u001b[38;5;34m512\u001b[0m │\n",
       "│ (\u001b[38;5;33mBatchNormalization\u001b[0m)                 │                             │                 │\n",
       "├──────────────────────────────────────┼─────────────────────────────┼─────────────────┤\n",
       "│ dropout_3 (\u001b[38;5;33mDropout\u001b[0m)                  │ (\u001b[38;5;45mNone\u001b[0m, \u001b[38;5;34m128\u001b[0m)                 │               \u001b[38;5;34m0\u001b[0m │\n",
       "├──────────────────────────────────────┼─────────────────────────────┼─────────────────┤\n",
       "│ dense_3 (\u001b[38;5;33mDense\u001b[0m)                      │ (\u001b[38;5;45mNone\u001b[0m, \u001b[38;5;34m10\u001b[0m)                  │           \u001b[38;5;34m1,290\u001b[0m │\n",
       "└──────────────────────────────────────┴─────────────────────────────┴─────────────────┘\n"
      ]
     },
     "metadata": {},
     "output_type": "display_data"
    },
    {
     "data": {
      "text/html": [
       "<pre style=\"white-space:pre;overflow-x:auto;line-height:normal;font-family:Menlo,'DejaVu Sans Mono',consolas,'Courier New',monospace\"><span style=\"font-weight: bold\"> Total params: </span><span style=\"color: #00af00; text-decoration-color: #00af00\">219,002</span> (855.48 KB)\n",
       "</pre>\n"
      ],
      "text/plain": [
       "\u001b[1m Total params: \u001b[0m\u001b[38;5;34m219,002\u001b[0m (855.48 KB)\n"
      ]
     },
     "metadata": {},
     "output_type": "display_data"
    },
    {
     "data": {
      "text/html": [
       "<pre style=\"white-space:pre;overflow-x:auto;line-height:normal;font-family:Menlo,'DejaVu Sans Mono',consolas,'Courier New',monospace\"><span style=\"font-weight: bold\"> Trainable params: </span><span style=\"color: #00af00; text-decoration-color: #00af00\">218,746</span> (854.48 KB)\n",
       "</pre>\n"
      ],
      "text/plain": [
       "\u001b[1m Trainable params: \u001b[0m\u001b[38;5;34m218,746\u001b[0m (854.48 KB)\n"
      ]
     },
     "metadata": {},
     "output_type": "display_data"
    },
    {
     "data": {
      "text/html": [
       "<pre style=\"white-space:pre;overflow-x:auto;line-height:normal;font-family:Menlo,'DejaVu Sans Mono',consolas,'Courier New',monospace\"><span style=\"font-weight: bold\"> Non-trainable params: </span><span style=\"color: #00af00; text-decoration-color: #00af00\">256</span> (1.00 KB)\n",
       "</pre>\n"
      ],
      "text/plain": [
       "\u001b[1m Non-trainable params: \u001b[0m\u001b[38;5;34m256\u001b[0m (1.00 KB)\n"
      ]
     },
     "metadata": {},
     "output_type": "display_data"
    }
   ],
   "source": [
    "# print(image_size+ (1,))\n",
    "dataset_name = [\"mnist\",\"mnist_fashion\",\"cifar10\", \"cifar100\"]\n",
    "data = dataset_name[1]\n",
    "if data==\"cifar10\" or data==\"cifar100\":\n",
    "    image_size =(32, 32,3) \n",
    "else:\n",
    "    image_size = (28, 28,1)\n",
    "    \n",
    "batch_size = 32\n",
    "N_classes = 10 if data!=\"cifar100\" else 100\n",
    "\n",
    "training, testing = dataset_maker(data)\n",
    "x_train, y_train = training\n",
    "x_test, y_test = testing\n",
    "\n",
    "print(\"Input data size\", data,image_size)\n",
    "print(\"Training:\", x_train.shape, y_train.shape)\n",
    "print(\"Testing:\", x_test.shape, y_test.shape)\n",
    "\n",
    "\n",
    "\n",
    "# convert class vectors to binary class matrices\n",
    "y_train = keras.utils.to_categorical(y_train, N_classes)\n",
    "y_test = keras.utils.to_categorical(y_test, N_classes)\n",
    "print(\"Target size\", data,image_size)\n",
    "print(\"Training:\", y_train.shape)\n",
    "print(\"Testing:\", y_test.shape)\n",
    "\n",
    "model = model_maker(image_size,N_classes)\n",
    "# keras.utils.plot_model(model, show_shapes=True)\n",
    "model.summary()\n"
   ]
  },
  {
   "cell_type": "code",
   "execution_count": 10,
   "id": "be46e872",
   "metadata": {},
   "outputs": [
    {
     "data": {
      "text/plain": [
       "(28, 28, 1)"
      ]
     },
     "execution_count": 10,
     "metadata": {},
     "output_type": "execute_result"
    }
   ],
   "source": [
    "# compile the model\n",
    "# model.compile(loss=keras.losses.SparseCategoricalCrossentropy(), \n",
    "#               optimizer=keras.optimizers.AdamW(), \n",
    "#               metrics=[keras.metrics.SparseCategoricalAccuracy()]) # second optimizer\n",
    "\n",
    "#model.compile(loss=keras.losses.SparseCategoricalCrossentropy(), \n",
    "#              optimizer=keras.optimizers.AdamW(learning_rate=0.0001), \n",
    "#              metrics=[keras.metrics.SparseTopKCategoricalAccuracy(k=1)]) # second optimizer and accuracy\n",
    "#model.compile(loss=keras.losses.CategoricalCrossentropy(), \n",
    "#              optimizer=keras.optimizers.AdamW(learning_rate=0.0001), \n",
    "#              metrics=[keras.metrics.Accuracy()]) # second optimizer and accuracy\n",
    "#model.compile(loss=\"categorical_crossentropy\", optimizer=\"adam\", metrics=[\"accuracy\"])\n",
    "#model.compile(loss=\"categorical_crossentropy\", optimizer=keras.optimizers.AdamW(learning_rate=0.001), metrics=[\"accuracy\"])\n",
    "model.compile(loss=\"categorical_crossentropy\", optimizer=keras.optimizers.Adam(learning_rate=0.001, weight_decay=2e-4),\n",
    "              metrics=[\"accuracy\"]) # lr 8e-5\n",
    "image_size"
   ]
  },
  {
   "cell_type": "code",
   "execution_count": 11,
   "id": "f8299665",
   "metadata": {},
   "outputs": [
    {
     "name": "stdout",
     "output_type": "stream",
     "text": [
      "Epoch 1/20\n",
      "\u001b[1m1594/1594\u001b[0m \u001b[32m━━━━━━━━━━━━━━━━━━━━\u001b[0m\u001b[37m\u001b[0m \u001b[1m15s\u001b[0m 8ms/step - accuracy: 0.7642 - loss: 0.6579 - val_accuracy: 0.8678 - val_loss: 0.3747\n",
      "Epoch 2/20\n",
      "\u001b[1m1594/1594\u001b[0m \u001b[32m━━━━━━━━━━━━━━━━━━━━\u001b[0m\u001b[37m\u001b[0m \u001b[1m13s\u001b[0m 8ms/step - accuracy: 0.8617 - loss: 0.3931 - val_accuracy: 0.8751 - val_loss: 0.3364\n",
      "Epoch 3/20\n",
      "\u001b[1m1594/1594\u001b[0m \u001b[32m━━━━━━━━━━━━━━━━━━━━\u001b[0m\u001b[37m\u001b[0m \u001b[1m12s\u001b[0m 7ms/step - accuracy: 0.8748 - loss: 0.3554 - val_accuracy: 0.8834 - val_loss: 0.3231\n",
      "Epoch 4/20\n",
      "\u001b[1m1594/1594\u001b[0m \u001b[32m━━━━━━━━━━━━━━━━━━━━\u001b[0m\u001b[37m\u001b[0m \u001b[1m12s\u001b[0m 7ms/step - accuracy: 0.8773 - loss: 0.3430 - val_accuracy: 0.8938 - val_loss: 0.2977\n",
      "Epoch 5/20\n",
      "\u001b[1m1594/1594\u001b[0m \u001b[32m━━━━━━━━━━━━━━━━━━━━\u001b[0m\u001b[37m\u001b[0m \u001b[1m12s\u001b[0m 7ms/step - accuracy: 0.8856 - loss: 0.3143 - val_accuracy: 0.8967 - val_loss: 0.2875\n",
      "Epoch 6/20\n",
      "\u001b[1m1594/1594\u001b[0m \u001b[32m━━━━━━━━━━━━━━━━━━━━\u001b[0m\u001b[37m\u001b[0m \u001b[1m12s\u001b[0m 8ms/step - accuracy: 0.8860 - loss: 0.3131 - val_accuracy: 0.8934 - val_loss: 0.2853\n",
      "Epoch 7/20\n",
      "\u001b[1m1594/1594\u001b[0m \u001b[32m━━━━━━━━━━━━━━━━━━━━\u001b[0m\u001b[37m\u001b[0m \u001b[1m13s\u001b[0m 8ms/step - accuracy: 0.8918 - loss: 0.3017 - val_accuracy: 0.8928 - val_loss: 0.2946\n",
      "Epoch 8/20\n",
      "\u001b[1m1594/1594\u001b[0m \u001b[32m━━━━━━━━━━━━━━━━━━━━\u001b[0m\u001b[37m\u001b[0m \u001b[1m12s\u001b[0m 7ms/step - accuracy: 0.8987 - loss: 0.2815 - val_accuracy: 0.8957 - val_loss: 0.2830\n",
      "Epoch 9/20\n",
      "\u001b[1m1594/1594\u001b[0m \u001b[32m━━━━━━━━━━━━━━━━━━━━\u001b[0m\u001b[37m\u001b[0m \u001b[1m12s\u001b[0m 7ms/step - accuracy: 0.9006 - loss: 0.2751 - val_accuracy: 0.8979 - val_loss: 0.2713\n",
      "Epoch 10/20\n",
      "\u001b[1m1594/1594\u001b[0m \u001b[32m━━━━━━━━━━━━━━━━━━━━\u001b[0m\u001b[37m\u001b[0m \u001b[1m12s\u001b[0m 8ms/step - accuracy: 0.9050 - loss: 0.2593 - val_accuracy: 0.9014 - val_loss: 0.2731\n",
      "Epoch 11/20\n",
      "\u001b[1m1594/1594\u001b[0m \u001b[32m━━━━━━━━━━━━━━━━━━━━\u001b[0m\u001b[37m\u001b[0m \u001b[1m13s\u001b[0m 8ms/step - accuracy: 0.9047 - loss: 0.2599 - val_accuracy: 0.9079 - val_loss: 0.2588\n",
      "Epoch 12/20\n",
      "\u001b[1m1594/1594\u001b[0m \u001b[32m━━━━━━━━━━━━━━━━━━━━\u001b[0m\u001b[37m\u001b[0m \u001b[1m13s\u001b[0m 8ms/step - accuracy: 0.9102 - loss: 0.2481 - val_accuracy: 0.9067 - val_loss: 0.2503\n",
      "Epoch 13/20\n",
      "\u001b[1m1594/1594\u001b[0m \u001b[32m━━━━━━━━━━━━━━━━━━━━\u001b[0m\u001b[37m\u001b[0m \u001b[1m13s\u001b[0m 8ms/step - accuracy: 0.9093 - loss: 0.2452 - val_accuracy: 0.9082 - val_loss: 0.2533\n",
      "Epoch 14/20\n",
      "\u001b[1m1594/1594\u001b[0m \u001b[32m━━━━━━━━━━━━━━━━━━━━\u001b[0m\u001b[37m\u001b[0m \u001b[1m12s\u001b[0m 8ms/step - accuracy: 0.9124 - loss: 0.2382 - val_accuracy: 0.9117 - val_loss: 0.2405\n",
      "Epoch 15/20\n",
      "\u001b[1m1594/1594\u001b[0m \u001b[32m━━━━━━━━━━━━━━━━━━━━\u001b[0m\u001b[37m\u001b[0m \u001b[1m13s\u001b[0m 8ms/step - accuracy: 0.9165 - loss: 0.2287 - val_accuracy: 0.9111 - val_loss: 0.2478\n",
      "Epoch 16/20\n",
      "\u001b[1m1594/1594\u001b[0m \u001b[32m━━━━━━━━━━━━━━━━━━━━\u001b[0m\u001b[37m\u001b[0m \u001b[1m13s\u001b[0m 8ms/step - accuracy: 0.9212 - loss: 0.2203 - val_accuracy: 0.9079 - val_loss: 0.2523\n",
      "Epoch 17/20\n",
      "\u001b[1m1594/1594\u001b[0m \u001b[32m━━━━━━━━━━━━━━━━━━━━\u001b[0m\u001b[37m\u001b[0m \u001b[1m13s\u001b[0m 8ms/step - accuracy: 0.9206 - loss: 0.2170 - val_accuracy: 0.9118 - val_loss: 0.2415\n",
      "Epoch 18/20\n",
      "\u001b[1m1594/1594\u001b[0m \u001b[32m━━━━━━━━━━━━━━━━━━━━\u001b[0m\u001b[37m\u001b[0m \u001b[1m13s\u001b[0m 8ms/step - accuracy: 0.9212 - loss: 0.2151 - val_accuracy: 0.9146 - val_loss: 0.2472\n",
      "Epoch 19/20\n",
      "\u001b[1m1594/1594\u001b[0m \u001b[32m━━━━━━━━━━━━━━━━━━━━\u001b[0m\u001b[37m\u001b[0m \u001b[1m13s\u001b[0m 8ms/step - accuracy: 0.9239 - loss: 0.2064 - val_accuracy: 0.9124 - val_loss: 0.2503\n",
      "Epoch 20/20\n",
      "\u001b[1m1594/1594\u001b[0m \u001b[32m━━━━━━━━━━━━━━━━━━━━\u001b[0m\u001b[37m\u001b[0m \u001b[1m13s\u001b[0m 8ms/step - accuracy: 0.9259 - loss: 0.1990 - val_accuracy: 0.9104 - val_loss: 0.2481\n"
     ]
    }
   ],
   "source": [
    "# start training\n",
    "epochs = 20  # 5, 10, 15, 20\n",
    "history = model.fit(x_train, y_train, epochs=epochs,\n",
    "                    validation_split=0.15,batch_size=32)"
   ]
  },
  {
   "cell_type": "code",
   "execution_count": 12,
   "id": "b49008bb",
   "metadata": {
    "scrolled": true
   },
   "outputs": [
    {
     "name": "stdout",
     "output_type": "stream",
     "text": [
      "\u001b[1m313/313\u001b[0m \u001b[32m━━━━━━━━━━━━━━━━━━━━\u001b[0m\u001b[37m\u001b[0m \u001b[1m1s\u001b[0m 3ms/step - accuracy: 0.9057 - loss: 0.2740\n",
      "\u001b[1m313/313\u001b[0m \u001b[32m━━━━━━━━━━━━━━━━━━━━\u001b[0m\u001b[37m\u001b[0m \u001b[1m1s\u001b[0m 3ms/step\n"
     ]
    }
   ],
   "source": [
    "n_random = np.random.choice(len(x_test)) # choose an input data\n",
    "res_acc=model.evaluate(x_test, y_test)\n",
    "res_out=model.predict(x_test)"
   ]
  },
  {
   "cell_type": "code",
   "execution_count": 13,
   "id": "c4c22a77-2cbb-4724-b1a3-b8547d4b372b",
   "metadata": {},
   "outputs": [
    {
     "data": {
      "image/png": "[encoded data removed]",
      "text/plain": [
       "<Figure size 640x480 with 1 Axes>"
      ]
     },
     "metadata": {},
     "output_type": "display_data"
    }
   ],
   "source": [
    "plothist(history)"
   ]
  },
  {
   "cell_type": "code",
   "execution_count": 18,
   "id": "92000fa9-ea6e-4c60-b13a-2067ebd54a86",
   "metadata": {},
   "outputs": [],
   "source": [
    "def get_classified_mnist(y, y_hat, dataset=\"mnist_fashion\"):\n",
    "    print(y)\n",
    "    print(y_hat)\n",
    "    if dataset==\"mnist_fashion\":\n",
    "        class_name = [\"T-shirt/top\", \"Trouser\", \"Pullover\", \"Dress\", \"Coat\", \n",
    "                       \"Sandal\", \"Shirt\", \"Sneaker\", \"Bag\", \"Ankle boot\"]\n",
    "    else:\n",
    "        class_name = [\"T-shirt/top\", \"Trouser\", \"Pullover\", \"Dress\", \"Coat\", \n",
    "                       \"Sandal\", \"Shirt\", \"Sneaker\", \"Bag\", \"Ankle boot\"]\n",
    "    max_yh = y_hat.max()\n",
    "    y_index = 0\n",
    "    yh_index = 0\n",
    "    for i,res in enumerate(y):\n",
    "        if res>0:\n",
    "            y_index=i\n",
    "    y_res = \"Target=\"+class_name[y_index]\n",
    "    \n",
    "    for i,res in enumerate(y_hat):\n",
    "        if res==max_yh:\n",
    "            yh_index=i\n",
    "    #print(y_hat[yh_index])\n",
    "    yh_res = \"Result: \"+class_name[y_index]+\" prob: \"+str(int(y_hat[yh_index]*100))+\"%\"\n",
    "    \n",
    "    return y_res, yh_res"
   ]
  },
  {
   "cell_type": "code",
   "execution_count": 25,
   "id": "d3d4ff4f-e277-4511-9796-5679acc94956",
   "metadata": {},
   "outputs": [
    {
     "name": "stdout",
     "output_type": "stream",
     "text": [
      "[0. 0. 0. 0. 0. 0. 0. 0. 1. 0.]\n",
      "[3.8045553e-11 2.2742040e-12 5.1893302e-11 1.1328818e-09 6.7988004e-11\n",
      " 9.2118629e-10 3.2901728e-09 6.4091943e-10 1.0000000e+00 3.7706460e-10]\n",
      "Target=Bag\n",
      "Result: Bag prob: 100%\n"
     ]
    },
    {
     "data": {
      "image/png": "[encoded data removed]",
      "text/plain": [
       "<Figure size 700x700 with 1 Axes>"
      ]
     },
     "metadata": {},
     "output_type": "display_data"
    }
   ],
   "source": [
    "n_random= 7000\n",
    "y, yh = get_classified_mnist(y_test[n_random],res_out[n_random], data)\n",
    "print(y)\n",
    "print(yh)\n",
    "img_title = y+\" ::: \"+yh \n",
    "fig, ax = plt.subplots(1, 1, figsize=(7, 7))\n",
    "ax.imshow(x_test[n_random])\n",
    "ax.axis('off')\n",
    "ax.set_title(img_title)\n",
    "plt.show()"
   ]
  },
  {
   "cell_type": "code",
   "execution_count": null,
   "id": "5ea4c2a0",
   "metadata": {},
   "outputs": [],
   "source": []
  }
 ],
 "metadata": {
  "kernelspec": {
   "display_name": "Python 3 (ipykernel)",
   "language": "python",
   "name": "python3"
  },
  "language_info": {
   "codemirror_mode": {
    "name": "ipython",
    "version": 3
   },
   "file_extension": ".py",
   "mimetype": "text/x-python",
   "name": "python",
   "nbconvert_exporter": "python",
   "pygments_lexer": "ipython3",
   "version": "3.12.4"
  }
 },
 "nbformat": 4,
 "nbformat_minor": 5
}
